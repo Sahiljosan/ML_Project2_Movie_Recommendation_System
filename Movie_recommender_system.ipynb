{
 "cells": [
  {
   "attachments": {},
   "cell_type": "markdown",
   "metadata": {},
   "source": [
    "# Movie Recommender System"
   ]
  },
  {
   "cell_type": "code",
   "execution_count": null,
   "metadata": {},
   "outputs": [
    {
     "ename": "",
     "evalue": "",
     "output_type": "error",
     "traceback": [
      "\u001b[1;31mThe kernel failed to start due to the missing module 'prompt_toolkit.formatted_text'. Consider installing this module.\n",
      "\u001b[1;31mClick <a href='https://aka.ms/kernelFailuresMissingModule'>here</a> for more info."
     ]
    }
   ],
   "source": [
    "import numpy as np\n",
    "import pandas as pd"
   ]
  },
  {
   "cell_type": "code",
   "execution_count": 52,
   "metadata": {},
   "outputs": [],
   "source": [
    "movies = pd.read_csv(r\"G:\\Udemy\\DATA SCIENCE ineuron\\Machine Learning Project\\Movie Recomender system (CampusX)\\Dataset\\tmdb_5000_movies.csv\")\n",
    "credits = pd.read_csv(r\"G:\\Udemy\\DATA SCIENCE ineuron\\Machine Learning Project\\Movie Recomender system (CampusX)\\Dataset\\tmdb_5000_credits.csv\")"
   ]
  },
  {
   "cell_type": "code",
   "execution_count": 53,
   "metadata": {},
   "outputs": [
    {
     "name": "stdout",
     "output_type": "stream",
     "text": [
      "(4803, 20)\n"
     ]
    },
    {
     "data": {
      "text/html": [
       "<div>\n",
       "<style scoped>\n",
       "    .dataframe tbody tr th:only-of-type {\n",
       "        vertical-align: middle;\n",
       "    }\n",
       "\n",
       "    .dataframe tbody tr th {\n",
       "        vertical-align: top;\n",
       "    }\n",
       "\n",
       "    .dataframe thead th {\n",
       "        text-align: right;\n",
       "    }\n",
       "</style>\n",
       "<table border=\"1\" class=\"dataframe\">\n",
       "  <thead>\n",
       "    <tr style=\"text-align: right;\">\n",
       "      <th></th>\n",
       "      <th>budget</th>\n",
       "      <th>genres</th>\n",
       "      <th>homepage</th>\n",
       "      <th>id</th>\n",
       "      <th>keywords</th>\n",
       "      <th>original_language</th>\n",
       "      <th>original_title</th>\n",
       "      <th>overview</th>\n",
       "      <th>popularity</th>\n",
       "      <th>production_companies</th>\n",
       "      <th>production_countries</th>\n",
       "      <th>release_date</th>\n",
       "      <th>revenue</th>\n",
       "      <th>runtime</th>\n",
       "      <th>spoken_languages</th>\n",
       "      <th>status</th>\n",
       "      <th>tagline</th>\n",
       "      <th>title</th>\n",
       "      <th>vote_average</th>\n",
       "      <th>vote_count</th>\n",
       "    </tr>\n",
       "  </thead>\n",
       "  <tbody>\n",
       "    <tr>\n",
       "      <th>0</th>\n",
       "      <td>237000000</td>\n",
       "      <td>[{\"id\": 28, \"name\": \"Action\"}, {\"id\": 12, \"nam...</td>\n",
       "      <td>http://www.avatarmovie.com/</td>\n",
       "      <td>19995</td>\n",
       "      <td>[{\"id\": 1463, \"name\": \"culture clash\"}, {\"id\":...</td>\n",
       "      <td>en</td>\n",
       "      <td>Avatar</td>\n",
       "      <td>In the 22nd century, a paraplegic Marine is di...</td>\n",
       "      <td>150.437577</td>\n",
       "      <td>[{\"name\": \"Ingenious Film Partners\", \"id\": 289...</td>\n",
       "      <td>[{\"iso_3166_1\": \"US\", \"name\": \"United States o...</td>\n",
       "      <td>2009-12-10</td>\n",
       "      <td>2787965087</td>\n",
       "      <td>162.0</td>\n",
       "      <td>[{\"iso_639_1\": \"en\", \"name\": \"English\"}, {\"iso...</td>\n",
       "      <td>Released</td>\n",
       "      <td>Enter the World of Pandora.</td>\n",
       "      <td>Avatar</td>\n",
       "      <td>7.2</td>\n",
       "      <td>11800</td>\n",
       "    </tr>\n",
       "  </tbody>\n",
       "</table>\n",
       "</div>"
      ],
      "text/plain": [
       "      budget                                             genres  \\\n",
       "0  237000000  [{\"id\": 28, \"name\": \"Action\"}, {\"id\": 12, \"nam...   \n",
       "\n",
       "                      homepage     id  \\\n",
       "0  http://www.avatarmovie.com/  19995   \n",
       "\n",
       "                                            keywords original_language  \\\n",
       "0  [{\"id\": 1463, \"name\": \"culture clash\"}, {\"id\":...                en   \n",
       "\n",
       "  original_title                                           overview  \\\n",
       "0         Avatar  In the 22nd century, a paraplegic Marine is di...   \n",
       "\n",
       "   popularity                               production_companies  \\\n",
       "0  150.437577  [{\"name\": \"Ingenious Film Partners\", \"id\": 289...   \n",
       "\n",
       "                                production_countries release_date     revenue  \\\n",
       "0  [{\"iso_3166_1\": \"US\", \"name\": \"United States o...   2009-12-10  2787965087   \n",
       "\n",
       "   runtime                                   spoken_languages    status  \\\n",
       "0    162.0  [{\"iso_639_1\": \"en\", \"name\": \"English\"}, {\"iso...  Released   \n",
       "\n",
       "                       tagline   title  vote_average  vote_count  \n",
       "0  Enter the World of Pandora.  Avatar           7.2       11800  "
      ]
     },
     "execution_count": 53,
     "metadata": {},
     "output_type": "execute_result"
    }
   ],
   "source": [
    "print(movies.shape)\n",
    "movies.head(1)"
   ]
  },
  {
   "cell_type": "code",
   "execution_count": 54,
   "metadata": {},
   "outputs": [
    {
     "name": "stdout",
     "output_type": "stream",
     "text": [
      "(4803, 4)\n"
     ]
    },
    {
     "data": {
      "text/html": [
       "<div>\n",
       "<style scoped>\n",
       "    .dataframe tbody tr th:only-of-type {\n",
       "        vertical-align: middle;\n",
       "    }\n",
       "\n",
       "    .dataframe tbody tr th {\n",
       "        vertical-align: top;\n",
       "    }\n",
       "\n",
       "    .dataframe thead th {\n",
       "        text-align: right;\n",
       "    }\n",
       "</style>\n",
       "<table border=\"1\" class=\"dataframe\">\n",
       "  <thead>\n",
       "    <tr style=\"text-align: right;\">\n",
       "      <th></th>\n",
       "      <th>movie_id</th>\n",
       "      <th>title</th>\n",
       "      <th>cast</th>\n",
       "      <th>crew</th>\n",
       "    </tr>\n",
       "  </thead>\n",
       "  <tbody>\n",
       "    <tr>\n",
       "      <th>0</th>\n",
       "      <td>19995</td>\n",
       "      <td>Avatar</td>\n",
       "      <td>[{\"cast_id\": 242, \"character\": \"Jake Sully\", \"...</td>\n",
       "      <td>[{\"credit_id\": \"52fe48009251416c750aca23\", \"de...</td>\n",
       "    </tr>\n",
       "  </tbody>\n",
       "</table>\n",
       "</div>"
      ],
      "text/plain": [
       "   movie_id   title                                               cast  \\\n",
       "0     19995  Avatar  [{\"cast_id\": 242, \"character\": \"Jake Sully\", \"...   \n",
       "\n",
       "                                                crew  \n",
       "0  [{\"credit_id\": \"52fe48009251416c750aca23\", \"de...  "
      ]
     },
     "execution_count": 54,
     "metadata": {},
     "output_type": "execute_result"
    }
   ],
   "source": [
    "print(credits.shape)\n",
    "credits.head(1)"
   ]
  },
  {
   "attachments": {},
   "cell_type": "markdown",
   "metadata": {},
   "source": [
    "### Merge Movies and credit DataFrames"
   ]
  },
  {
   "cell_type": "code",
   "execution_count": 55,
   "metadata": {},
   "outputs": [
    {
     "data": {
      "text/plain": [
       "(4809, 23)"
      ]
     },
     "execution_count": 55,
     "metadata": {},
     "output_type": "execute_result"
    }
   ],
   "source": [
    "movies = movies.merge(credits, on = 'title')\n",
    "movies.shape"
   ]
  },
  {
   "cell_type": "code",
   "execution_count": 56,
   "metadata": {},
   "outputs": [
    {
     "name": "stdout",
     "output_type": "stream",
     "text": [
      "<class 'pandas.core.frame.DataFrame'>\n",
      "Int64Index: 4809 entries, 0 to 4808\n",
      "Data columns (total 23 columns):\n",
      " #   Column                Non-Null Count  Dtype  \n",
      "---  ------                --------------  -----  \n",
      " 0   budget                4809 non-null   int64  \n",
      " 1   genres                4809 non-null   object \n",
      " 2   homepage              1713 non-null   object \n",
      " 3   id                    4809 non-null   int64  \n",
      " 4   keywords              4809 non-null   object \n",
      " 5   original_language     4809 non-null   object \n",
      " 6   original_title        4809 non-null   object \n",
      " 7   overview              4806 non-null   object \n",
      " 8   popularity            4809 non-null   float64\n",
      " 9   production_companies  4809 non-null   object \n",
      " 10  production_countries  4809 non-null   object \n",
      " 11  release_date          4808 non-null   object \n",
      " 12  revenue               4809 non-null   int64  \n",
      " 13  runtime               4807 non-null   float64\n",
      " 14  spoken_languages      4809 non-null   object \n",
      " 15  status                4809 non-null   object \n",
      " 16  tagline               3965 non-null   object \n",
      " 17  title                 4809 non-null   object \n",
      " 18  vote_average          4809 non-null   float64\n",
      " 19  vote_count            4809 non-null   int64  \n",
      " 20  movie_id              4809 non-null   int64  \n",
      " 21  cast                  4809 non-null   object \n",
      " 22  crew                  4809 non-null   object \n",
      "dtypes: float64(3), int64(5), object(15)\n",
      "memory usage: 901.7+ KB\n"
     ]
    }
   ],
   "source": [
    "movies.info()"
   ]
  },
  {
   "attachments": {},
   "cell_type": "markdown",
   "metadata": {},
   "source": [
    "### Columns we will use :\n",
    "1. genres\n",
    "2. id\n",
    "3. keywords\n",
    "4. title\n",
    "5. overview\n",
    "6. cast\n",
    "7. crew"
   ]
  },
  {
   "attachments": {},
   "cell_type": "markdown",
   "metadata": {},
   "source": [
    "### Extract the columns that we need and make new DataFrame"
   ]
  },
  {
   "cell_type": "code",
   "execution_count": 57,
   "metadata": {},
   "outputs": [],
   "source": [
    "movies = movies[['movie_id','title','overview','genres','keywords','cast','crew']]"
   ]
  },
  {
   "cell_type": "code",
   "execution_count": 58,
   "metadata": {},
   "outputs": [
    {
     "data": {
      "text/html": [
       "<div>\n",
       "<style scoped>\n",
       "    .dataframe tbody tr th:only-of-type {\n",
       "        vertical-align: middle;\n",
       "    }\n",
       "\n",
       "    .dataframe tbody tr th {\n",
       "        vertical-align: top;\n",
       "    }\n",
       "\n",
       "    .dataframe thead th {\n",
       "        text-align: right;\n",
       "    }\n",
       "</style>\n",
       "<table border=\"1\" class=\"dataframe\">\n",
       "  <thead>\n",
       "    <tr style=\"text-align: right;\">\n",
       "      <th></th>\n",
       "      <th>movie_id</th>\n",
       "      <th>title</th>\n",
       "      <th>overview</th>\n",
       "      <th>genres</th>\n",
       "      <th>keywords</th>\n",
       "      <th>cast</th>\n",
       "      <th>crew</th>\n",
       "    </tr>\n",
       "  </thead>\n",
       "  <tbody>\n",
       "    <tr>\n",
       "      <th>0</th>\n",
       "      <td>19995</td>\n",
       "      <td>Avatar</td>\n",
       "      <td>In the 22nd century, a paraplegic Marine is di...</td>\n",
       "      <td>[{\"id\": 28, \"name\": \"Action\"}, {\"id\": 12, \"nam...</td>\n",
       "      <td>[{\"id\": 1463, \"name\": \"culture clash\"}, {\"id\":...</td>\n",
       "      <td>[{\"cast_id\": 242, \"character\": \"Jake Sully\", \"...</td>\n",
       "      <td>[{\"credit_id\": \"52fe48009251416c750aca23\", \"de...</td>\n",
       "    </tr>\n",
       "    <tr>\n",
       "      <th>1</th>\n",
       "      <td>285</td>\n",
       "      <td>Pirates of the Caribbean: At World's End</td>\n",
       "      <td>Captain Barbossa, long believed to be dead, ha...</td>\n",
       "      <td>[{\"id\": 12, \"name\": \"Adventure\"}, {\"id\": 14, \"...</td>\n",
       "      <td>[{\"id\": 270, \"name\": \"ocean\"}, {\"id\": 726, \"na...</td>\n",
       "      <td>[{\"cast_id\": 4, \"character\": \"Captain Jack Spa...</td>\n",
       "      <td>[{\"credit_id\": \"52fe4232c3a36847f800b579\", \"de...</td>\n",
       "    </tr>\n",
       "    <tr>\n",
       "      <th>2</th>\n",
       "      <td>206647</td>\n",
       "      <td>Spectre</td>\n",
       "      <td>A cryptic message from Bond’s past sends him o...</td>\n",
       "      <td>[{\"id\": 28, \"name\": \"Action\"}, {\"id\": 12, \"nam...</td>\n",
       "      <td>[{\"id\": 470, \"name\": \"spy\"}, {\"id\": 818, \"name...</td>\n",
       "      <td>[{\"cast_id\": 1, \"character\": \"James Bond\", \"cr...</td>\n",
       "      <td>[{\"credit_id\": \"54805967c3a36829b5002c41\", \"de...</td>\n",
       "    </tr>\n",
       "    <tr>\n",
       "      <th>3</th>\n",
       "      <td>49026</td>\n",
       "      <td>The Dark Knight Rises</td>\n",
       "      <td>Following the death of District Attorney Harve...</td>\n",
       "      <td>[{\"id\": 28, \"name\": \"Action\"}, {\"id\": 80, \"nam...</td>\n",
       "      <td>[{\"id\": 849, \"name\": \"dc comics\"}, {\"id\": 853,...</td>\n",
       "      <td>[{\"cast_id\": 2, \"character\": \"Bruce Wayne / Ba...</td>\n",
       "      <td>[{\"credit_id\": \"52fe4781c3a36847f81398c3\", \"de...</td>\n",
       "    </tr>\n",
       "    <tr>\n",
       "      <th>4</th>\n",
       "      <td>49529</td>\n",
       "      <td>John Carter</td>\n",
       "      <td>John Carter is a war-weary, former military ca...</td>\n",
       "      <td>[{\"id\": 28, \"name\": \"Action\"}, {\"id\": 12, \"nam...</td>\n",
       "      <td>[{\"id\": 818, \"name\": \"based on novel\"}, {\"id\":...</td>\n",
       "      <td>[{\"cast_id\": 5, \"character\": \"John Carter\", \"c...</td>\n",
       "      <td>[{\"credit_id\": \"52fe479ac3a36847f813eaa3\", \"de...</td>\n",
       "    </tr>\n",
       "  </tbody>\n",
       "</table>\n",
       "</div>"
      ],
      "text/plain": [
       "   movie_id                                     title  \\\n",
       "0     19995                                    Avatar   \n",
       "1       285  Pirates of the Caribbean: At World's End   \n",
       "2    206647                                   Spectre   \n",
       "3     49026                     The Dark Knight Rises   \n",
       "4     49529                               John Carter   \n",
       "\n",
       "                                            overview  \\\n",
       "0  In the 22nd century, a paraplegic Marine is di...   \n",
       "1  Captain Barbossa, long believed to be dead, ha...   \n",
       "2  A cryptic message from Bond’s past sends him o...   \n",
       "3  Following the death of District Attorney Harve...   \n",
       "4  John Carter is a war-weary, former military ca...   \n",
       "\n",
       "                                              genres  \\\n",
       "0  [{\"id\": 28, \"name\": \"Action\"}, {\"id\": 12, \"nam...   \n",
       "1  [{\"id\": 12, \"name\": \"Adventure\"}, {\"id\": 14, \"...   \n",
       "2  [{\"id\": 28, \"name\": \"Action\"}, {\"id\": 12, \"nam...   \n",
       "3  [{\"id\": 28, \"name\": \"Action\"}, {\"id\": 80, \"nam...   \n",
       "4  [{\"id\": 28, \"name\": \"Action\"}, {\"id\": 12, \"nam...   \n",
       "\n",
       "                                            keywords  \\\n",
       "0  [{\"id\": 1463, \"name\": \"culture clash\"}, {\"id\":...   \n",
       "1  [{\"id\": 270, \"name\": \"ocean\"}, {\"id\": 726, \"na...   \n",
       "2  [{\"id\": 470, \"name\": \"spy\"}, {\"id\": 818, \"name...   \n",
       "3  [{\"id\": 849, \"name\": \"dc comics\"}, {\"id\": 853,...   \n",
       "4  [{\"id\": 818, \"name\": \"based on novel\"}, {\"id\":...   \n",
       "\n",
       "                                                cast  \\\n",
       "0  [{\"cast_id\": 242, \"character\": \"Jake Sully\", \"...   \n",
       "1  [{\"cast_id\": 4, \"character\": \"Captain Jack Spa...   \n",
       "2  [{\"cast_id\": 1, \"character\": \"James Bond\", \"cr...   \n",
       "3  [{\"cast_id\": 2, \"character\": \"Bruce Wayne / Ba...   \n",
       "4  [{\"cast_id\": 5, \"character\": \"John Carter\", \"c...   \n",
       "\n",
       "                                                crew  \n",
       "0  [{\"credit_id\": \"52fe48009251416c750aca23\", \"de...  \n",
       "1  [{\"credit_id\": \"52fe4232c3a36847f800b579\", \"de...  \n",
       "2  [{\"credit_id\": \"54805967c3a36829b5002c41\", \"de...  \n",
       "3  [{\"credit_id\": \"52fe4781c3a36847f81398c3\", \"de...  \n",
       "4  [{\"credit_id\": \"52fe479ac3a36847f813eaa3\", \"de...  "
      ]
     },
     "execution_count": 58,
     "metadata": {},
     "output_type": "execute_result"
    }
   ],
   "source": [
    "movies.head()"
   ]
  },
  {
   "attachments": {},
   "cell_type": "markdown",
   "metadata": {},
   "source": [
    "### Check the null values"
   ]
  },
  {
   "cell_type": "code",
   "execution_count": 59,
   "metadata": {},
   "outputs": [
    {
     "data": {
      "text/plain": [
       "movie_id    0\n",
       "title       0\n",
       "overview    3\n",
       "genres      0\n",
       "keywords    0\n",
       "cast        0\n",
       "crew        0\n",
       "dtype: int64"
      ]
     },
     "execution_count": 59,
     "metadata": {},
     "output_type": "execute_result"
    }
   ],
   "source": [
    "movies.isna().sum()"
   ]
  },
  {
   "attachments": {},
   "cell_type": "markdown",
   "metadata": {},
   "source": [
    "### Drop 3 records of overview column"
   ]
  },
  {
   "cell_type": "code",
   "execution_count": 60,
   "metadata": {},
   "outputs": [
    {
     "data": {
      "text/plain": [
       "Int64Index([2662, 4147, 4437], dtype='int64')"
      ]
     },
     "execution_count": 60,
     "metadata": {},
     "output_type": "execute_result"
    }
   ],
   "source": [
    "movies[movies['overview'].isna()].index"
   ]
  },
  {
   "cell_type": "code",
   "execution_count": 61,
   "metadata": {},
   "outputs": [],
   "source": [
    "movies.drop([2662,4147,4437],axis = 0,inplace=True)"
   ]
  },
  {
   "cell_type": "code",
   "execution_count": 62,
   "metadata": {},
   "outputs": [
    {
     "data": {
      "text/plain": [
       "movie_id    0\n",
       "title       0\n",
       "overview    0\n",
       "genres      0\n",
       "keywords    0\n",
       "cast        0\n",
       "crew        0\n",
       "dtype: int64"
      ]
     },
     "execution_count": 62,
     "metadata": {},
     "output_type": "execute_result"
    }
   ],
   "source": [
    "movies.isna().sum()"
   ]
  },
  {
   "attachments": {},
   "cell_type": "markdown",
   "metadata": {},
   "source": [
    "## Preprocessing"
   ]
  },
  {
   "cell_type": "code",
   "execution_count": 63,
   "metadata": {},
   "outputs": [
    {
     "data": {
      "text/plain": [
       "'[{\"id\": 28, \"name\": \"Action\"}, {\"id\": 12, \"name\": \"Adventure\"}, {\"id\": 14, \"name\": \"Fantasy\"}, {\"id\": 878, \"name\": \"Science Fiction\"}]'"
      ]
     },
     "execution_count": 63,
     "metadata": {},
     "output_type": "execute_result"
    }
   ],
   "source": [
    "movies.iloc[0].genres"
   ]
  },
  {
   "attachments": {},
   "cell_type": "markdown",
   "metadata": {},
   "source": [
    "### Convert str to list using `ast.literal_eval()`"
   ]
  },
  {
   "cell_type": "code",
   "execution_count": 64,
   "metadata": {},
   "outputs": [
    {
     "data": {
      "text/plain": [
       "[{'id': 28, 'name': 'Action'},\n",
       " {'id': 12, 'name': 'Adventure'},\n",
       " {'id': 14, 'name': 'Fantasy'},\n",
       " {'id': 878, 'name': 'Science Fiction'}]"
      ]
     },
     "execution_count": 64,
     "metadata": {},
     "output_type": "execute_result"
    }
   ],
   "source": [
    "import ast\n",
    "ast.literal_eval('[{\"id\": 28, \"name\": \"Action\"}, {\"id\": 12, \"name\": \"Adventure\"}, {\"id\": 14, \"name\": \"Fantasy\"}, {\"id\": 878, \"name\": \"Science Fiction\"}]')"
   ]
  },
  {
   "attachments": {},
   "cell_type": "markdown",
   "metadata": {},
   "source": [
    "### Extract values from `genres` feature"
   ]
  },
  {
   "cell_type": "code",
   "execution_count": 65,
   "metadata": {},
   "outputs": [],
   "source": [
    "def convert(obj):\n",
    "    L = []\n",
    "    for i in ast.literal_eval(obj):\n",
    "        L.append(i['name'])\n",
    "    return L"
   ]
  },
  {
   "cell_type": "code",
   "execution_count": 66,
   "metadata": {},
   "outputs": [
    {
     "data": {
      "text/plain": [
       "0       [Action, Adventure, Fantasy, Science Fiction]\n",
       "1                        [Adventure, Fantasy, Action]\n",
       "2                          [Action, Adventure, Crime]\n",
       "3                    [Action, Crime, Drama, Thriller]\n",
       "4                [Action, Adventure, Science Fiction]\n",
       "                            ...                      \n",
       "4804                        [Action, Crime, Thriller]\n",
       "4805                                [Comedy, Romance]\n",
       "4806               [Comedy, Drama, Romance, TV Movie]\n",
       "4807                                               []\n",
       "4808                                    [Documentary]\n",
       "Name: genres, Length: 4806, dtype: object"
      ]
     },
     "execution_count": 66,
     "metadata": {},
     "output_type": "execute_result"
    }
   ],
   "source": [
    "movies['genres'].apply(convert)"
   ]
  },
  {
   "cell_type": "code",
   "execution_count": 67,
   "metadata": {},
   "outputs": [],
   "source": [
    "movies['genres'] = movies['genres'].apply(convert)"
   ]
  },
  {
   "attachments": {},
   "cell_type": "markdown",
   "metadata": {},
   "source": [
    "### We have extacted genres similarly we extract names for keywords feature also"
   ]
  },
  {
   "cell_type": "code",
   "execution_count": 68,
   "metadata": {},
   "outputs": [
    {
     "data": {
      "text/html": [
       "<div>\n",
       "<style scoped>\n",
       "    .dataframe tbody tr th:only-of-type {\n",
       "        vertical-align: middle;\n",
       "    }\n",
       "\n",
       "    .dataframe tbody tr th {\n",
       "        vertical-align: top;\n",
       "    }\n",
       "\n",
       "    .dataframe thead th {\n",
       "        text-align: right;\n",
       "    }\n",
       "</style>\n",
       "<table border=\"1\" class=\"dataframe\">\n",
       "  <thead>\n",
       "    <tr style=\"text-align: right;\">\n",
       "      <th></th>\n",
       "      <th>movie_id</th>\n",
       "      <th>title</th>\n",
       "      <th>overview</th>\n",
       "      <th>genres</th>\n",
       "      <th>keywords</th>\n",
       "      <th>cast</th>\n",
       "      <th>crew</th>\n",
       "    </tr>\n",
       "  </thead>\n",
       "  <tbody>\n",
       "    <tr>\n",
       "      <th>0</th>\n",
       "      <td>19995</td>\n",
       "      <td>Avatar</td>\n",
       "      <td>In the 22nd century, a paraplegic Marine is di...</td>\n",
       "      <td>[Action, Adventure, Fantasy, Science Fiction]</td>\n",
       "      <td>[{\"id\": 1463, \"name\": \"culture clash\"}, {\"id\":...</td>\n",
       "      <td>[{\"cast_id\": 242, \"character\": \"Jake Sully\", \"...</td>\n",
       "      <td>[{\"credit_id\": \"52fe48009251416c750aca23\", \"de...</td>\n",
       "    </tr>\n",
       "  </tbody>\n",
       "</table>\n",
       "</div>"
      ],
      "text/plain": [
       "   movie_id   title                                           overview  \\\n",
       "0     19995  Avatar  In the 22nd century, a paraplegic Marine is di...   \n",
       "\n",
       "                                          genres  \\\n",
       "0  [Action, Adventure, Fantasy, Science Fiction]   \n",
       "\n",
       "                                            keywords  \\\n",
       "0  [{\"id\": 1463, \"name\": \"culture clash\"}, {\"id\":...   \n",
       "\n",
       "                                                cast  \\\n",
       "0  [{\"cast_id\": 242, \"character\": \"Jake Sully\", \"...   \n",
       "\n",
       "                                                crew  \n",
       "0  [{\"credit_id\": \"52fe48009251416c750aca23\", \"de...  "
      ]
     },
     "execution_count": 68,
     "metadata": {},
     "output_type": "execute_result"
    }
   ],
   "source": [
    "movies.head(1)"
   ]
  },
  {
   "cell_type": "code",
   "execution_count": 69,
   "metadata": {},
   "outputs": [
    {
     "data": {
      "text/plain": [
       "'[{\"id\": 1463, \"name\": \"culture clash\"}, {\"id\": 2964, \"name\": \"future\"}, {\"id\": 3386, \"name\": \"space war\"}, {\"id\": 3388, \"name\": \"space colony\"}, {\"id\": 3679, \"name\": \"society\"}, {\"id\": 3801, \"name\": \"space travel\"}, {\"id\": 9685, \"name\": \"futuristic\"}, {\"id\": 9840, \"name\": \"romance\"}, {\"id\": 9882, \"name\": \"space\"}, {\"id\": 9951, \"name\": \"alien\"}, {\"id\": 10148, \"name\": \"tribe\"}, {\"id\": 10158, \"name\": \"alien planet\"}, {\"id\": 10987, \"name\": \"cgi\"}, {\"id\": 11399, \"name\": \"marine\"}, {\"id\": 13065, \"name\": \"soldier\"}, {\"id\": 14643, \"name\": \"battle\"}, {\"id\": 14720, \"name\": \"love affair\"}, {\"id\": 165431, \"name\": \"anti war\"}, {\"id\": 193554, \"name\": \"power relations\"}, {\"id\": 206690, \"name\": \"mind and soul\"}, {\"id\": 209714, \"name\": \"3d\"}]'"
      ]
     },
     "execution_count": 69,
     "metadata": {},
     "output_type": "execute_result"
    }
   ],
   "source": [
    "movies['keywords'][0]"
   ]
  },
  {
   "cell_type": "code",
   "execution_count": 70,
   "metadata": {},
   "outputs": [],
   "source": [
    "def convert_keywords(obj):\n",
    "    L= []\n",
    "    for i in ast.literal_eval(obj):\n",
    "        L.append(i['name'])\n",
    "    return L"
   ]
  },
  {
   "cell_type": "code",
   "execution_count": 71,
   "metadata": {},
   "outputs": [],
   "source": [
    "movies['keywords'] = movies['keywords'].apply(convert_keywords)"
   ]
  },
  {
   "cell_type": "code",
   "execution_count": 72,
   "metadata": {},
   "outputs": [
    {
     "data": {
      "text/html": [
       "<div>\n",
       "<style scoped>\n",
       "    .dataframe tbody tr th:only-of-type {\n",
       "        vertical-align: middle;\n",
       "    }\n",
       "\n",
       "    .dataframe tbody tr th {\n",
       "        vertical-align: top;\n",
       "    }\n",
       "\n",
       "    .dataframe thead th {\n",
       "        text-align: right;\n",
       "    }\n",
       "</style>\n",
       "<table border=\"1\" class=\"dataframe\">\n",
       "  <thead>\n",
       "    <tr style=\"text-align: right;\">\n",
       "      <th></th>\n",
       "      <th>movie_id</th>\n",
       "      <th>title</th>\n",
       "      <th>overview</th>\n",
       "      <th>genres</th>\n",
       "      <th>keywords</th>\n",
       "      <th>cast</th>\n",
       "      <th>crew</th>\n",
       "    </tr>\n",
       "  </thead>\n",
       "  <tbody>\n",
       "    <tr>\n",
       "      <th>0</th>\n",
       "      <td>19995</td>\n",
       "      <td>Avatar</td>\n",
       "      <td>In the 22nd century, a paraplegic Marine is di...</td>\n",
       "      <td>[Action, Adventure, Fantasy, Science Fiction]</td>\n",
       "      <td>[culture clash, future, space war, space colon...</td>\n",
       "      <td>[{\"cast_id\": 242, \"character\": \"Jake Sully\", \"...</td>\n",
       "      <td>[{\"credit_id\": \"52fe48009251416c750aca23\", \"de...</td>\n",
       "    </tr>\n",
       "  </tbody>\n",
       "</table>\n",
       "</div>"
      ],
      "text/plain": [
       "   movie_id   title                                           overview  \\\n",
       "0     19995  Avatar  In the 22nd century, a paraplegic Marine is di...   \n",
       "\n",
       "                                          genres  \\\n",
       "0  [Action, Adventure, Fantasy, Science Fiction]   \n",
       "\n",
       "                                            keywords  \\\n",
       "0  [culture clash, future, space war, space colon...   \n",
       "\n",
       "                                                cast  \\\n",
       "0  [{\"cast_id\": 242, \"character\": \"Jake Sully\", \"...   \n",
       "\n",
       "                                                crew  \n",
       "0  [{\"credit_id\": \"52fe48009251416c750aca23\", \"de...  "
      ]
     },
     "execution_count": 72,
     "metadata": {},
     "output_type": "execute_result"
    }
   ],
   "source": [
    "movies.head(1)"
   ]
  },
  {
   "attachments": {},
   "cell_type": "markdown",
   "metadata": {},
   "source": [
    "- Now our `genres` and `keywords` columns has come in desired formate"
   ]
  },
  {
   "attachments": {},
   "cell_type": "markdown",
   "metadata": {},
   "source": [
    "### In `cast` we extract top 3 actors"
   ]
  },
  {
   "cell_type": "code",
   "execution_count": 73,
   "metadata": {},
   "outputs": [],
   "source": [
    "def extract_top_3(obj):\n",
    "    L = []\n",
    "    counter = 0\n",
    "    for i in ast.literal_eval(obj):\n",
    "        if counter != 3:\n",
    "            L.append(i['name'])\n",
    "            counter+=1\n",
    "        else:\n",
    "            break\n",
    "    return L"
   ]
  },
  {
   "cell_type": "code",
   "execution_count": 74,
   "metadata": {},
   "outputs": [
    {
     "data": {
      "text/plain": [
       "0        [Sam Worthington, Zoe Saldana, Sigourney Weaver]\n",
       "1           [Johnny Depp, Orlando Bloom, Keira Knightley]\n",
       "2            [Daniel Craig, Christoph Waltz, Léa Seydoux]\n",
       "3            [Christian Bale, Michael Caine, Gary Oldman]\n",
       "4          [Taylor Kitsch, Lynn Collins, Samantha Morton]\n",
       "                              ...                        \n",
       "4804    [Carlos Gallardo, Jaime de Hoyos, Peter Marqua...\n",
       "4805         [Edward Burns, Kerry Bishé, Marsha Dietlein]\n",
       "4806           [Eric Mabius, Kristin Booth, Crystal Lowe]\n",
       "4807            [Daniel Henney, Eliza Coupe, Bill Paxton]\n",
       "4808    [Drew Barrymore, Brian Herzlinger, Corey Feldman]\n",
       "Name: cast, Length: 4806, dtype: object"
      ]
     },
     "execution_count": 74,
     "metadata": {},
     "output_type": "execute_result"
    }
   ],
   "source": [
    "movies['cast'].apply(extract_top_3)"
   ]
  },
  {
   "cell_type": "code",
   "execution_count": 75,
   "metadata": {},
   "outputs": [],
   "source": [
    "movies['cast']= movies['cast'].apply(extract_top_3)"
   ]
  },
  {
   "cell_type": "code",
   "execution_count": 76,
   "metadata": {},
   "outputs": [
    {
     "data": {
      "text/html": [
       "<div>\n",
       "<style scoped>\n",
       "    .dataframe tbody tr th:only-of-type {\n",
       "        vertical-align: middle;\n",
       "    }\n",
       "\n",
       "    .dataframe tbody tr th {\n",
       "        vertical-align: top;\n",
       "    }\n",
       "\n",
       "    .dataframe thead th {\n",
       "        text-align: right;\n",
       "    }\n",
       "</style>\n",
       "<table border=\"1\" class=\"dataframe\">\n",
       "  <thead>\n",
       "    <tr style=\"text-align: right;\">\n",
       "      <th></th>\n",
       "      <th>movie_id</th>\n",
       "      <th>title</th>\n",
       "      <th>overview</th>\n",
       "      <th>genres</th>\n",
       "      <th>keywords</th>\n",
       "      <th>cast</th>\n",
       "      <th>crew</th>\n",
       "    </tr>\n",
       "  </thead>\n",
       "  <tbody>\n",
       "    <tr>\n",
       "      <th>0</th>\n",
       "      <td>19995</td>\n",
       "      <td>Avatar</td>\n",
       "      <td>In the 22nd century, a paraplegic Marine is di...</td>\n",
       "      <td>[Action, Adventure, Fantasy, Science Fiction]</td>\n",
       "      <td>[culture clash, future, space war, space colon...</td>\n",
       "      <td>[Sam Worthington, Zoe Saldana, Sigourney Weaver]</td>\n",
       "      <td>[{\"credit_id\": \"52fe48009251416c750aca23\", \"de...</td>\n",
       "    </tr>\n",
       "  </tbody>\n",
       "</table>\n",
       "</div>"
      ],
      "text/plain": [
       "   movie_id   title                                           overview  \\\n",
       "0     19995  Avatar  In the 22nd century, a paraplegic Marine is di...   \n",
       "\n",
       "                                          genres  \\\n",
       "0  [Action, Adventure, Fantasy, Science Fiction]   \n",
       "\n",
       "                                            keywords  \\\n",
       "0  [culture clash, future, space war, space colon...   \n",
       "\n",
       "                                               cast  \\\n",
       "0  [Sam Worthington, Zoe Saldana, Sigourney Weaver]   \n",
       "\n",
       "                                                crew  \n",
       "0  [{\"credit_id\": \"52fe48009251416c750aca23\", \"de...  "
      ]
     },
     "execution_count": 76,
     "metadata": {},
     "output_type": "execute_result"
    }
   ],
   "source": [
    "movies.head(1)"
   ]
  },
  {
   "attachments": {},
   "cell_type": "markdown",
   "metadata": {},
   "source": [
    "### Now in `crew` we want to extract only that name whose job is director \n",
    "(means we want to extract directors name only)"
   ]
  },
  {
   "cell_type": "code",
   "execution_count": 77,
   "metadata": {},
   "outputs": [],
   "source": [
    "def director_name_only(obj):\n",
    "    L = []\n",
    "    for i in ast.literal_eval(obj):\n",
    "        if i['job'] == 'Director':\n",
    "            L.append(i['name'])\n",
    "    return L"
   ]
  },
  {
   "cell_type": "code",
   "execution_count": 78,
   "metadata": {},
   "outputs": [
    {
     "data": {
      "text/plain": [
       "0                                [James Cameron]\n",
       "1                               [Gore Verbinski]\n",
       "2                                   [Sam Mendes]\n",
       "3                            [Christopher Nolan]\n",
       "4                               [Andrew Stanton]\n",
       "                          ...                   \n",
       "4804                          [Robert Rodriguez]\n",
       "4805                              [Edward Burns]\n",
       "4806                               [Scott Smith]\n",
       "4807                               [Daniel Hsia]\n",
       "4808    [Brian Herzlinger, Jon Gunn, Brett Winn]\n",
       "Name: crew, Length: 4806, dtype: object"
      ]
     },
     "execution_count": 78,
     "metadata": {},
     "output_type": "execute_result"
    }
   ],
   "source": [
    "movies['crew'].apply(director_name_only)"
   ]
  },
  {
   "cell_type": "code",
   "execution_count": 79,
   "metadata": {},
   "outputs": [],
   "source": [
    "movies['crew'] = movies['crew'].apply(director_name_only)"
   ]
  },
  {
   "cell_type": "code",
   "execution_count": 80,
   "metadata": {},
   "outputs": [
    {
     "data": {
      "text/html": [
       "<div>\n",
       "<style scoped>\n",
       "    .dataframe tbody tr th:only-of-type {\n",
       "        vertical-align: middle;\n",
       "    }\n",
       "\n",
       "    .dataframe tbody tr th {\n",
       "        vertical-align: top;\n",
       "    }\n",
       "\n",
       "    .dataframe thead th {\n",
       "        text-align: right;\n",
       "    }\n",
       "</style>\n",
       "<table border=\"1\" class=\"dataframe\">\n",
       "  <thead>\n",
       "    <tr style=\"text-align: right;\">\n",
       "      <th></th>\n",
       "      <th>movie_id</th>\n",
       "      <th>title</th>\n",
       "      <th>overview</th>\n",
       "      <th>genres</th>\n",
       "      <th>keywords</th>\n",
       "      <th>cast</th>\n",
       "      <th>crew</th>\n",
       "    </tr>\n",
       "  </thead>\n",
       "  <tbody>\n",
       "    <tr>\n",
       "      <th>0</th>\n",
       "      <td>19995</td>\n",
       "      <td>Avatar</td>\n",
       "      <td>In the 22nd century, a paraplegic Marine is di...</td>\n",
       "      <td>[Action, Adventure, Fantasy, Science Fiction]</td>\n",
       "      <td>[culture clash, future, space war, space colon...</td>\n",
       "      <td>[Sam Worthington, Zoe Saldana, Sigourney Weaver]</td>\n",
       "      <td>[James Cameron]</td>\n",
       "    </tr>\n",
       "    <tr>\n",
       "      <th>1</th>\n",
       "      <td>285</td>\n",
       "      <td>Pirates of the Caribbean: At World's End</td>\n",
       "      <td>Captain Barbossa, long believed to be dead, ha...</td>\n",
       "      <td>[Adventure, Fantasy, Action]</td>\n",
       "      <td>[ocean, drug abuse, exotic island, east india ...</td>\n",
       "      <td>[Johnny Depp, Orlando Bloom, Keira Knightley]</td>\n",
       "      <td>[Gore Verbinski]</td>\n",
       "    </tr>\n",
       "    <tr>\n",
       "      <th>2</th>\n",
       "      <td>206647</td>\n",
       "      <td>Spectre</td>\n",
       "      <td>A cryptic message from Bond’s past sends him o...</td>\n",
       "      <td>[Action, Adventure, Crime]</td>\n",
       "      <td>[spy, based on novel, secret agent, sequel, mi...</td>\n",
       "      <td>[Daniel Craig, Christoph Waltz, Léa Seydoux]</td>\n",
       "      <td>[Sam Mendes]</td>\n",
       "    </tr>\n",
       "    <tr>\n",
       "      <th>3</th>\n",
       "      <td>49026</td>\n",
       "      <td>The Dark Knight Rises</td>\n",
       "      <td>Following the death of District Attorney Harve...</td>\n",
       "      <td>[Action, Crime, Drama, Thriller]</td>\n",
       "      <td>[dc comics, crime fighter, terrorist, secret i...</td>\n",
       "      <td>[Christian Bale, Michael Caine, Gary Oldman]</td>\n",
       "      <td>[Christopher Nolan]</td>\n",
       "    </tr>\n",
       "    <tr>\n",
       "      <th>4</th>\n",
       "      <td>49529</td>\n",
       "      <td>John Carter</td>\n",
       "      <td>John Carter is a war-weary, former military ca...</td>\n",
       "      <td>[Action, Adventure, Science Fiction]</td>\n",
       "      <td>[based on novel, mars, medallion, space travel...</td>\n",
       "      <td>[Taylor Kitsch, Lynn Collins, Samantha Morton]</td>\n",
       "      <td>[Andrew Stanton]</td>\n",
       "    </tr>\n",
       "  </tbody>\n",
       "</table>\n",
       "</div>"
      ],
      "text/plain": [
       "   movie_id                                     title  \\\n",
       "0     19995                                    Avatar   \n",
       "1       285  Pirates of the Caribbean: At World's End   \n",
       "2    206647                                   Spectre   \n",
       "3     49026                     The Dark Knight Rises   \n",
       "4     49529                               John Carter   \n",
       "\n",
       "                                            overview  \\\n",
       "0  In the 22nd century, a paraplegic Marine is di...   \n",
       "1  Captain Barbossa, long believed to be dead, ha...   \n",
       "2  A cryptic message from Bond’s past sends him o...   \n",
       "3  Following the death of District Attorney Harve...   \n",
       "4  John Carter is a war-weary, former military ca...   \n",
       "\n",
       "                                          genres  \\\n",
       "0  [Action, Adventure, Fantasy, Science Fiction]   \n",
       "1                   [Adventure, Fantasy, Action]   \n",
       "2                     [Action, Adventure, Crime]   \n",
       "3               [Action, Crime, Drama, Thriller]   \n",
       "4           [Action, Adventure, Science Fiction]   \n",
       "\n",
       "                                            keywords  \\\n",
       "0  [culture clash, future, space war, space colon...   \n",
       "1  [ocean, drug abuse, exotic island, east india ...   \n",
       "2  [spy, based on novel, secret agent, sequel, mi...   \n",
       "3  [dc comics, crime fighter, terrorist, secret i...   \n",
       "4  [based on novel, mars, medallion, space travel...   \n",
       "\n",
       "                                               cast                 crew  \n",
       "0  [Sam Worthington, Zoe Saldana, Sigourney Weaver]      [James Cameron]  \n",
       "1     [Johnny Depp, Orlando Bloom, Keira Knightley]     [Gore Verbinski]  \n",
       "2      [Daniel Craig, Christoph Waltz, Léa Seydoux]         [Sam Mendes]  \n",
       "3      [Christian Bale, Michael Caine, Gary Oldman]  [Christopher Nolan]  \n",
       "4    [Taylor Kitsch, Lynn Collins, Samantha Morton]     [Andrew Stanton]  "
      ]
     },
     "execution_count": 80,
     "metadata": {},
     "output_type": "execute_result"
    }
   ],
   "source": [
    "movies.head()"
   ]
  },
  {
   "attachments": {},
   "cell_type": "markdown",
   "metadata": {},
   "source": [
    "### Now our `overview` column is string \n",
    "convert it to list"
   ]
  },
  {
   "cell_type": "code",
   "execution_count": 81,
   "metadata": {},
   "outputs": [
    {
     "data": {
      "text/plain": [
       "'In the 22nd century, a paraplegic Marine is dispatched to the moon Pandora on a unique mission, but becomes torn between following orders and protecting an alien civilization.'"
      ]
     },
     "execution_count": 81,
     "metadata": {},
     "output_type": "execute_result"
    }
   ],
   "source": [
    "movies['overview'][0]"
   ]
  },
  {
   "cell_type": "code",
   "execution_count": 82,
   "metadata": {},
   "outputs": [
    {
     "data": {
      "text/plain": [
       "0       [In, the, 22nd, century,, a, paraplegic, Marin...\n",
       "1       [Captain, Barbossa,, long, believed, to, be, d...\n",
       "2       [A, cryptic, message, from, Bond’s, past, send...\n",
       "3       [Following, the, death, of, District, Attorney...\n",
       "4       [John, Carter, is, a, war-weary,, former, mili...\n",
       "                              ...                        \n",
       "4804    [El, Mariachi, just, wants, to, play, his, gui...\n",
       "4805    [A, newlywed, couple's, honeymoon, is, upended...\n",
       "4806    [\"Signed,, Sealed,, Delivered\", introduces, a,...\n",
       "4807    [When, ambitious, New, York, attorney, Sam, is...\n",
       "4808    [Ever, since, the, second, grade, when, he, fi...\n",
       "Name: overview, Length: 4806, dtype: object"
      ]
     },
     "execution_count": 82,
     "metadata": {},
     "output_type": "execute_result"
    }
   ],
   "source": [
    "movies['overview'].apply(lambda x:x.split())"
   ]
  },
  {
   "cell_type": "code",
   "execution_count": 83,
   "metadata": {},
   "outputs": [],
   "source": [
    "movies['overview'] = movies['overview'].apply(lambda x:x.split())"
   ]
  },
  {
   "cell_type": "code",
   "execution_count": 84,
   "metadata": {},
   "outputs": [
    {
     "data": {
      "text/html": [
       "<div>\n",
       "<style scoped>\n",
       "    .dataframe tbody tr th:only-of-type {\n",
       "        vertical-align: middle;\n",
       "    }\n",
       "\n",
       "    .dataframe tbody tr th {\n",
       "        vertical-align: top;\n",
       "    }\n",
       "\n",
       "    .dataframe thead th {\n",
       "        text-align: right;\n",
       "    }\n",
       "</style>\n",
       "<table border=\"1\" class=\"dataframe\">\n",
       "  <thead>\n",
       "    <tr style=\"text-align: right;\">\n",
       "      <th></th>\n",
       "      <th>movie_id</th>\n",
       "      <th>title</th>\n",
       "      <th>overview</th>\n",
       "      <th>genres</th>\n",
       "      <th>keywords</th>\n",
       "      <th>cast</th>\n",
       "      <th>crew</th>\n",
       "    </tr>\n",
       "  </thead>\n",
       "  <tbody>\n",
       "    <tr>\n",
       "      <th>0</th>\n",
       "      <td>19995</td>\n",
       "      <td>Avatar</td>\n",
       "      <td>[In, the, 22nd, century,, a, paraplegic, Marin...</td>\n",
       "      <td>[Action, Adventure, Fantasy, Science Fiction]</td>\n",
       "      <td>[culture clash, future, space war, space colon...</td>\n",
       "      <td>[Sam Worthington, Zoe Saldana, Sigourney Weaver]</td>\n",
       "      <td>[James Cameron]</td>\n",
       "    </tr>\n",
       "    <tr>\n",
       "      <th>1</th>\n",
       "      <td>285</td>\n",
       "      <td>Pirates of the Caribbean: At World's End</td>\n",
       "      <td>[Captain, Barbossa,, long, believed, to, be, d...</td>\n",
       "      <td>[Adventure, Fantasy, Action]</td>\n",
       "      <td>[ocean, drug abuse, exotic island, east india ...</td>\n",
       "      <td>[Johnny Depp, Orlando Bloom, Keira Knightley]</td>\n",
       "      <td>[Gore Verbinski]</td>\n",
       "    </tr>\n",
       "    <tr>\n",
       "      <th>2</th>\n",
       "      <td>206647</td>\n",
       "      <td>Spectre</td>\n",
       "      <td>[A, cryptic, message, from, Bond’s, past, send...</td>\n",
       "      <td>[Action, Adventure, Crime]</td>\n",
       "      <td>[spy, based on novel, secret agent, sequel, mi...</td>\n",
       "      <td>[Daniel Craig, Christoph Waltz, Léa Seydoux]</td>\n",
       "      <td>[Sam Mendes]</td>\n",
       "    </tr>\n",
       "    <tr>\n",
       "      <th>3</th>\n",
       "      <td>49026</td>\n",
       "      <td>The Dark Knight Rises</td>\n",
       "      <td>[Following, the, death, of, District, Attorney...</td>\n",
       "      <td>[Action, Crime, Drama, Thriller]</td>\n",
       "      <td>[dc comics, crime fighter, terrorist, secret i...</td>\n",
       "      <td>[Christian Bale, Michael Caine, Gary Oldman]</td>\n",
       "      <td>[Christopher Nolan]</td>\n",
       "    </tr>\n",
       "    <tr>\n",
       "      <th>4</th>\n",
       "      <td>49529</td>\n",
       "      <td>John Carter</td>\n",
       "      <td>[John, Carter, is, a, war-weary,, former, mili...</td>\n",
       "      <td>[Action, Adventure, Science Fiction]</td>\n",
       "      <td>[based on novel, mars, medallion, space travel...</td>\n",
       "      <td>[Taylor Kitsch, Lynn Collins, Samantha Morton]</td>\n",
       "      <td>[Andrew Stanton]</td>\n",
       "    </tr>\n",
       "  </tbody>\n",
       "</table>\n",
       "</div>"
      ],
      "text/plain": [
       "   movie_id                                     title  \\\n",
       "0     19995                                    Avatar   \n",
       "1       285  Pirates of the Caribbean: At World's End   \n",
       "2    206647                                   Spectre   \n",
       "3     49026                     The Dark Knight Rises   \n",
       "4     49529                               John Carter   \n",
       "\n",
       "                                            overview  \\\n",
       "0  [In, the, 22nd, century,, a, paraplegic, Marin...   \n",
       "1  [Captain, Barbossa,, long, believed, to, be, d...   \n",
       "2  [A, cryptic, message, from, Bond’s, past, send...   \n",
       "3  [Following, the, death, of, District, Attorney...   \n",
       "4  [John, Carter, is, a, war-weary,, former, mili...   \n",
       "\n",
       "                                          genres  \\\n",
       "0  [Action, Adventure, Fantasy, Science Fiction]   \n",
       "1                   [Adventure, Fantasy, Action]   \n",
       "2                     [Action, Adventure, Crime]   \n",
       "3               [Action, Crime, Drama, Thriller]   \n",
       "4           [Action, Adventure, Science Fiction]   \n",
       "\n",
       "                                            keywords  \\\n",
       "0  [culture clash, future, space war, space colon...   \n",
       "1  [ocean, drug abuse, exotic island, east india ...   \n",
       "2  [spy, based on novel, secret agent, sequel, mi...   \n",
       "3  [dc comics, crime fighter, terrorist, secret i...   \n",
       "4  [based on novel, mars, medallion, space travel...   \n",
       "\n",
       "                                               cast                 crew  \n",
       "0  [Sam Worthington, Zoe Saldana, Sigourney Weaver]      [James Cameron]  \n",
       "1     [Johnny Depp, Orlando Bloom, Keira Knightley]     [Gore Verbinski]  \n",
       "2      [Daniel Craig, Christoph Waltz, Léa Seydoux]         [Sam Mendes]  \n",
       "3      [Christian Bale, Michael Caine, Gary Oldman]  [Christopher Nolan]  \n",
       "4    [Taylor Kitsch, Lynn Collins, Samantha Morton]     [Andrew Stanton]  "
      ]
     },
     "execution_count": 84,
     "metadata": {},
     "output_type": "execute_result"
    }
   ],
   "source": [
    "movies.head()"
   ]
  },
  {
   "attachments": {},
   "cell_type": "markdown",
   "metadata": {},
   "source": [
    "### Remove space between names \n",
    "so that our recomendation system use two words of name as single tag"
   ]
  },
  {
   "cell_type": "code",
   "execution_count": 85,
   "metadata": {},
   "outputs": [
    {
     "data": {
      "text/plain": [
       "0       [Action, Adventure, Fantasy, ScienceFiction]\n",
       "1                       [Adventure, Fantasy, Action]\n",
       "2                         [Action, Adventure, Crime]\n",
       "3                   [Action, Crime, Drama, Thriller]\n",
       "4                [Action, Adventure, ScienceFiction]\n",
       "                            ...                     \n",
       "4804                       [Action, Crime, Thriller]\n",
       "4805                               [Comedy, Romance]\n",
       "4806               [Comedy, Drama, Romance, TVMovie]\n",
       "4807                                              []\n",
       "4808                                   [Documentary]\n",
       "Name: genres, Length: 4806, dtype: object"
      ]
     },
     "execution_count": 85,
     "metadata": {},
     "output_type": "execute_result"
    }
   ],
   "source": [
    "movies['genres'].apply(lambda x:[i.replace(\" \",\"\") for i in x])"
   ]
  },
  {
   "cell_type": "code",
   "execution_count": 86,
   "metadata": {},
   "outputs": [],
   "source": [
    "movies['keywords'] = movies['keywords'].apply(lambda x:[i.replace(\" \",\"\") for i in x])\n",
    "movies['cast'] = movies['cast'].apply(lambda x:[i.replace(\" \",\"\") for i in x])\n",
    "movies['crew'] = movies['crew'].apply(lambda x:[i.replace(\" \",\"\") for i in x])"
   ]
  },
  {
   "cell_type": "code",
   "execution_count": 87,
   "metadata": {},
   "outputs": [],
   "source": [
    "movies['genres'] = movies['genres'].apply(lambda x:[i.replace(\" \",\"\") for i in x])"
   ]
  },
  {
   "cell_type": "code",
   "execution_count": 88,
   "metadata": {},
   "outputs": [
    {
     "data": {
      "text/html": [
       "<div>\n",
       "<style scoped>\n",
       "    .dataframe tbody tr th:only-of-type {\n",
       "        vertical-align: middle;\n",
       "    }\n",
       "\n",
       "    .dataframe tbody tr th {\n",
       "        vertical-align: top;\n",
       "    }\n",
       "\n",
       "    .dataframe thead th {\n",
       "        text-align: right;\n",
       "    }\n",
       "</style>\n",
       "<table border=\"1\" class=\"dataframe\">\n",
       "  <thead>\n",
       "    <tr style=\"text-align: right;\">\n",
       "      <th></th>\n",
       "      <th>movie_id</th>\n",
       "      <th>title</th>\n",
       "      <th>overview</th>\n",
       "      <th>genres</th>\n",
       "      <th>keywords</th>\n",
       "      <th>cast</th>\n",
       "      <th>crew</th>\n",
       "    </tr>\n",
       "  </thead>\n",
       "  <tbody>\n",
       "    <tr>\n",
       "      <th>0</th>\n",
       "      <td>19995</td>\n",
       "      <td>Avatar</td>\n",
       "      <td>[In, the, 22nd, century,, a, paraplegic, Marin...</td>\n",
       "      <td>[Action, Adventure, Fantasy, ScienceFiction]</td>\n",
       "      <td>[cultureclash, future, spacewar, spacecolony, ...</td>\n",
       "      <td>[SamWorthington, ZoeSaldana, SigourneyWeaver]</td>\n",
       "      <td>[JamesCameron]</td>\n",
       "    </tr>\n",
       "    <tr>\n",
       "      <th>1</th>\n",
       "      <td>285</td>\n",
       "      <td>Pirates of the Caribbean: At World's End</td>\n",
       "      <td>[Captain, Barbossa,, long, believed, to, be, d...</td>\n",
       "      <td>[Adventure, Fantasy, Action]</td>\n",
       "      <td>[ocean, drugabuse, exoticisland, eastindiatrad...</td>\n",
       "      <td>[JohnnyDepp, OrlandoBloom, KeiraKnightley]</td>\n",
       "      <td>[GoreVerbinski]</td>\n",
       "    </tr>\n",
       "    <tr>\n",
       "      <th>2</th>\n",
       "      <td>206647</td>\n",
       "      <td>Spectre</td>\n",
       "      <td>[A, cryptic, message, from, Bond’s, past, send...</td>\n",
       "      <td>[Action, Adventure, Crime]</td>\n",
       "      <td>[spy, basedonnovel, secretagent, sequel, mi6, ...</td>\n",
       "      <td>[DanielCraig, ChristophWaltz, LéaSeydoux]</td>\n",
       "      <td>[SamMendes]</td>\n",
       "    </tr>\n",
       "    <tr>\n",
       "      <th>3</th>\n",
       "      <td>49026</td>\n",
       "      <td>The Dark Knight Rises</td>\n",
       "      <td>[Following, the, death, of, District, Attorney...</td>\n",
       "      <td>[Action, Crime, Drama, Thriller]</td>\n",
       "      <td>[dccomics, crimefighter, terrorist, secretiden...</td>\n",
       "      <td>[ChristianBale, MichaelCaine, GaryOldman]</td>\n",
       "      <td>[ChristopherNolan]</td>\n",
       "    </tr>\n",
       "    <tr>\n",
       "      <th>4</th>\n",
       "      <td>49529</td>\n",
       "      <td>John Carter</td>\n",
       "      <td>[John, Carter, is, a, war-weary,, former, mili...</td>\n",
       "      <td>[Action, Adventure, ScienceFiction]</td>\n",
       "      <td>[basedonnovel, mars, medallion, spacetravel, p...</td>\n",
       "      <td>[TaylorKitsch, LynnCollins, SamanthaMorton]</td>\n",
       "      <td>[AndrewStanton]</td>\n",
       "    </tr>\n",
       "  </tbody>\n",
       "</table>\n",
       "</div>"
      ],
      "text/plain": [
       "   movie_id                                     title  \\\n",
       "0     19995                                    Avatar   \n",
       "1       285  Pirates of the Caribbean: At World's End   \n",
       "2    206647                                   Spectre   \n",
       "3     49026                     The Dark Knight Rises   \n",
       "4     49529                               John Carter   \n",
       "\n",
       "                                            overview  \\\n",
       "0  [In, the, 22nd, century,, a, paraplegic, Marin...   \n",
       "1  [Captain, Barbossa,, long, believed, to, be, d...   \n",
       "2  [A, cryptic, message, from, Bond’s, past, send...   \n",
       "3  [Following, the, death, of, District, Attorney...   \n",
       "4  [John, Carter, is, a, war-weary,, former, mili...   \n",
       "\n",
       "                                         genres  \\\n",
       "0  [Action, Adventure, Fantasy, ScienceFiction]   \n",
       "1                  [Adventure, Fantasy, Action]   \n",
       "2                    [Action, Adventure, Crime]   \n",
       "3              [Action, Crime, Drama, Thriller]   \n",
       "4           [Action, Adventure, ScienceFiction]   \n",
       "\n",
       "                                            keywords  \\\n",
       "0  [cultureclash, future, spacewar, spacecolony, ...   \n",
       "1  [ocean, drugabuse, exoticisland, eastindiatrad...   \n",
       "2  [spy, basedonnovel, secretagent, sequel, mi6, ...   \n",
       "3  [dccomics, crimefighter, terrorist, secretiden...   \n",
       "4  [basedonnovel, mars, medallion, spacetravel, p...   \n",
       "\n",
       "                                            cast                crew  \n",
       "0  [SamWorthington, ZoeSaldana, SigourneyWeaver]      [JamesCameron]  \n",
       "1     [JohnnyDepp, OrlandoBloom, KeiraKnightley]     [GoreVerbinski]  \n",
       "2      [DanielCraig, ChristophWaltz, LéaSeydoux]         [SamMendes]  \n",
       "3      [ChristianBale, MichaelCaine, GaryOldman]  [ChristopherNolan]  \n",
       "4    [TaylorKitsch, LynnCollins, SamanthaMorton]     [AndrewStanton]  "
      ]
     },
     "execution_count": 88,
     "metadata": {},
     "output_type": "execute_result"
    }
   ],
   "source": [
    "movies.head()"
   ]
  },
  {
   "attachments": {},
   "cell_type": "markdown",
   "metadata": {},
   "source": [
    "### Add a `tags`  feature that include all other features"
   ]
  },
  {
   "cell_type": "code",
   "execution_count": 89,
   "metadata": {},
   "outputs": [],
   "source": [
    "movies['tags'] = movies['overview'] + movies['genres'] + movies['keywords'] + movies['cast'] + movies['crew']"
   ]
  },
  {
   "cell_type": "code",
   "execution_count": 90,
   "metadata": {},
   "outputs": [
    {
     "data": {
      "text/html": [
       "<div>\n",
       "<style scoped>\n",
       "    .dataframe tbody tr th:only-of-type {\n",
       "        vertical-align: middle;\n",
       "    }\n",
       "\n",
       "    .dataframe tbody tr th {\n",
       "        vertical-align: top;\n",
       "    }\n",
       "\n",
       "    .dataframe thead th {\n",
       "        text-align: right;\n",
       "    }\n",
       "</style>\n",
       "<table border=\"1\" class=\"dataframe\">\n",
       "  <thead>\n",
       "    <tr style=\"text-align: right;\">\n",
       "      <th></th>\n",
       "      <th>movie_id</th>\n",
       "      <th>title</th>\n",
       "      <th>overview</th>\n",
       "      <th>genres</th>\n",
       "      <th>keywords</th>\n",
       "      <th>cast</th>\n",
       "      <th>crew</th>\n",
       "      <th>tags</th>\n",
       "    </tr>\n",
       "  </thead>\n",
       "  <tbody>\n",
       "    <tr>\n",
       "      <th>0</th>\n",
       "      <td>19995</td>\n",
       "      <td>Avatar</td>\n",
       "      <td>[In, the, 22nd, century,, a, paraplegic, Marin...</td>\n",
       "      <td>[Action, Adventure, Fantasy, ScienceFiction]</td>\n",
       "      <td>[cultureclash, future, spacewar, spacecolony, ...</td>\n",
       "      <td>[SamWorthington, ZoeSaldana, SigourneyWeaver]</td>\n",
       "      <td>[JamesCameron]</td>\n",
       "      <td>[In, the, 22nd, century,, a, paraplegic, Marin...</td>\n",
       "    </tr>\n",
       "  </tbody>\n",
       "</table>\n",
       "</div>"
      ],
      "text/plain": [
       "   movie_id   title                                           overview  \\\n",
       "0     19995  Avatar  [In, the, 22nd, century,, a, paraplegic, Marin...   \n",
       "\n",
       "                                         genres  \\\n",
       "0  [Action, Adventure, Fantasy, ScienceFiction]   \n",
       "\n",
       "                                            keywords  \\\n",
       "0  [cultureclash, future, spacewar, spacecolony, ...   \n",
       "\n",
       "                                            cast            crew  \\\n",
       "0  [SamWorthington, ZoeSaldana, SigourneyWeaver]  [JamesCameron]   \n",
       "\n",
       "                                                tags  \n",
       "0  [In, the, 22nd, century,, a, paraplegic, Marin...  "
      ]
     },
     "execution_count": 90,
     "metadata": {},
     "output_type": "execute_result"
    }
   ],
   "source": [
    "movies.head(1)"
   ]
  },
  {
   "cell_type": "code",
   "execution_count": 91,
   "metadata": {},
   "outputs": [],
   "source": [
    "new_df = movies[['movie_id','title','tags']]"
   ]
  },
  {
   "cell_type": "code",
   "execution_count": 92,
   "metadata": {},
   "outputs": [
    {
     "data": {
      "text/html": [
       "<div>\n",
       "<style scoped>\n",
       "    .dataframe tbody tr th:only-of-type {\n",
       "        vertical-align: middle;\n",
       "    }\n",
       "\n",
       "    .dataframe tbody tr th {\n",
       "        vertical-align: top;\n",
       "    }\n",
       "\n",
       "    .dataframe thead th {\n",
       "        text-align: right;\n",
       "    }\n",
       "</style>\n",
       "<table border=\"1\" class=\"dataframe\">\n",
       "  <thead>\n",
       "    <tr style=\"text-align: right;\">\n",
       "      <th></th>\n",
       "      <th>movie_id</th>\n",
       "      <th>title</th>\n",
       "      <th>tags</th>\n",
       "    </tr>\n",
       "  </thead>\n",
       "  <tbody>\n",
       "    <tr>\n",
       "      <th>0</th>\n",
       "      <td>19995</td>\n",
       "      <td>Avatar</td>\n",
       "      <td>[In, the, 22nd, century,, a, paraplegic, Marin...</td>\n",
       "    </tr>\n",
       "    <tr>\n",
       "      <th>1</th>\n",
       "      <td>285</td>\n",
       "      <td>Pirates of the Caribbean: At World's End</td>\n",
       "      <td>[Captain, Barbossa,, long, believed, to, be, d...</td>\n",
       "    </tr>\n",
       "    <tr>\n",
       "      <th>2</th>\n",
       "      <td>206647</td>\n",
       "      <td>Spectre</td>\n",
       "      <td>[A, cryptic, message, from, Bond’s, past, send...</td>\n",
       "    </tr>\n",
       "    <tr>\n",
       "      <th>3</th>\n",
       "      <td>49026</td>\n",
       "      <td>The Dark Knight Rises</td>\n",
       "      <td>[Following, the, death, of, District, Attorney...</td>\n",
       "    </tr>\n",
       "    <tr>\n",
       "      <th>4</th>\n",
       "      <td>49529</td>\n",
       "      <td>John Carter</td>\n",
       "      <td>[John, Carter, is, a, war-weary,, former, mili...</td>\n",
       "    </tr>\n",
       "  </tbody>\n",
       "</table>\n",
       "</div>"
      ],
      "text/plain": [
       "   movie_id                                     title  \\\n",
       "0     19995                                    Avatar   \n",
       "1       285  Pirates of the Caribbean: At World's End   \n",
       "2    206647                                   Spectre   \n",
       "3     49026                     The Dark Knight Rises   \n",
       "4     49529                               John Carter   \n",
       "\n",
       "                                                tags  \n",
       "0  [In, the, 22nd, century,, a, paraplegic, Marin...  \n",
       "1  [Captain, Barbossa,, long, believed, to, be, d...  \n",
       "2  [A, cryptic, message, from, Bond’s, past, send...  \n",
       "3  [Following, the, death, of, District, Attorney...  \n",
       "4  [John, Carter, is, a, war-weary,, former, mili...  "
      ]
     },
     "execution_count": 92,
     "metadata": {},
     "output_type": "execute_result"
    }
   ],
   "source": [
    "new_df.head()"
   ]
  },
  {
   "attachments": {},
   "cell_type": "markdown",
   "metadata": {},
   "source": [
    "#### Remove comma in tags columns and convert whole string to list"
   ]
  },
  {
   "cell_type": "code",
   "execution_count": 93,
   "metadata": {},
   "outputs": [
    {
     "data": {
      "text/plain": [
       "0       In the 22nd century, a paraplegic Marine is di...\n",
       "1       Captain Barbossa, long believed to be dead, ha...\n",
       "2       A cryptic message from Bond’s past sends him o...\n",
       "3       Following the death of District Attorney Harve...\n",
       "4       John Carter is a war-weary, former military ca...\n",
       "                              ...                        \n",
       "4804    El Mariachi just wants to play his guitar and ...\n",
       "4805    A newlywed couple's honeymoon is upended by th...\n",
       "4806    \"Signed, Sealed, Delivered\" introduces a dedic...\n",
       "4807    When ambitious New York attorney Sam is sent t...\n",
       "4808    Ever since the second grade when he first saw ...\n",
       "Name: tags, Length: 4806, dtype: object"
      ]
     },
     "execution_count": 93,
     "metadata": {},
     "output_type": "execute_result"
    }
   ],
   "source": [
    "new_df['tags'].apply(lambda x :\" \".join(x))"
   ]
  },
  {
   "cell_type": "code",
   "execution_count": 94,
   "metadata": {},
   "outputs": [
    {
     "name": "stderr",
     "output_type": "stream",
     "text": [
      "C:\\Users\\SAHIL JOSAN\\AppData\\Local\\Temp\\ipykernel_12580\\4095421860.py:1: SettingWithCopyWarning: \n",
      "A value is trying to be set on a copy of a slice from a DataFrame.\n",
      "Try using .loc[row_indexer,col_indexer] = value instead\n",
      "\n",
      "See the caveats in the documentation: https://pandas.pydata.org/pandas-docs/stable/user_guide/indexing.html#returning-a-view-versus-a-copy\n",
      "  new_df['tags'] = new_df['tags'].apply(lambda x :\" \".join(x))\n"
     ]
    }
   ],
   "source": [
    "new_df['tags'] = new_df['tags'].apply(lambda x :\" \".join(x))"
   ]
  },
  {
   "cell_type": "code",
   "execution_count": 95,
   "metadata": {},
   "outputs": [
    {
     "data": {
      "text/plain": [
       "'In the 22nd century, a paraplegic Marine is dispatched to the moon Pandora on a unique mission, but becomes torn between following orders and protecting an alien civilization. Action Adventure Fantasy ScienceFiction cultureclash future spacewar spacecolony society spacetravel futuristic romance space alien tribe alienplanet cgi marine soldier battle loveaffair antiwar powerrelations mindandsoul 3d SamWorthington ZoeSaldana SigourneyWeaver JamesCameron'"
      ]
     },
     "execution_count": 95,
     "metadata": {},
     "output_type": "execute_result"
    }
   ],
   "source": [
    "new_df['tags'][0]"
   ]
  },
  {
   "attachments": {},
   "cell_type": "markdown",
   "metadata": {},
   "source": [
    "### Convert all tags into lower case"
   ]
  },
  {
   "cell_type": "code",
   "execution_count": 96,
   "metadata": {},
   "outputs": [
    {
     "name": "stderr",
     "output_type": "stream",
     "text": [
      "C:\\Users\\SAHIL JOSAN\\AppData\\Local\\Temp\\ipykernel_12580\\3214958533.py:1: SettingWithCopyWarning: \n",
      "A value is trying to be set on a copy of a slice from a DataFrame.\n",
      "Try using .loc[row_indexer,col_indexer] = value instead\n",
      "\n",
      "See the caveats in the documentation: https://pandas.pydata.org/pandas-docs/stable/user_guide/indexing.html#returning-a-view-versus-a-copy\n",
      "  new_df['tags'] = new_df['tags'].apply(lambda x:x.lower())\n"
     ]
    }
   ],
   "source": [
    "new_df['tags'] = new_df['tags'].apply(lambda x:x.lower())"
   ]
  },
  {
   "cell_type": "code",
   "execution_count": 97,
   "metadata": {},
   "outputs": [
    {
     "data": {
      "text/html": [
       "<div>\n",
       "<style scoped>\n",
       "    .dataframe tbody tr th:only-of-type {\n",
       "        vertical-align: middle;\n",
       "    }\n",
       "\n",
       "    .dataframe tbody tr th {\n",
       "        vertical-align: top;\n",
       "    }\n",
       "\n",
       "    .dataframe thead th {\n",
       "        text-align: right;\n",
       "    }\n",
       "</style>\n",
       "<table border=\"1\" class=\"dataframe\">\n",
       "  <thead>\n",
       "    <tr style=\"text-align: right;\">\n",
       "      <th></th>\n",
       "      <th>movie_id</th>\n",
       "      <th>title</th>\n",
       "      <th>tags</th>\n",
       "    </tr>\n",
       "  </thead>\n",
       "  <tbody>\n",
       "    <tr>\n",
       "      <th>0</th>\n",
       "      <td>19995</td>\n",
       "      <td>Avatar</td>\n",
       "      <td>in the 22nd century, a paraplegic marine is di...</td>\n",
       "    </tr>\n",
       "    <tr>\n",
       "      <th>1</th>\n",
       "      <td>285</td>\n",
       "      <td>Pirates of the Caribbean: At World's End</td>\n",
       "      <td>captain barbossa, long believed to be dead, ha...</td>\n",
       "    </tr>\n",
       "    <tr>\n",
       "      <th>2</th>\n",
       "      <td>206647</td>\n",
       "      <td>Spectre</td>\n",
       "      <td>a cryptic message from bond’s past sends him o...</td>\n",
       "    </tr>\n",
       "    <tr>\n",
       "      <th>3</th>\n",
       "      <td>49026</td>\n",
       "      <td>The Dark Knight Rises</td>\n",
       "      <td>following the death of district attorney harve...</td>\n",
       "    </tr>\n",
       "    <tr>\n",
       "      <th>4</th>\n",
       "      <td>49529</td>\n",
       "      <td>John Carter</td>\n",
       "      <td>john carter is a war-weary, former military ca...</td>\n",
       "    </tr>\n",
       "  </tbody>\n",
       "</table>\n",
       "</div>"
      ],
      "text/plain": [
       "   movie_id                                     title  \\\n",
       "0     19995                                    Avatar   \n",
       "1       285  Pirates of the Caribbean: At World's End   \n",
       "2    206647                                   Spectre   \n",
       "3     49026                     The Dark Knight Rises   \n",
       "4     49529                               John Carter   \n",
       "\n",
       "                                                tags  \n",
       "0  in the 22nd century, a paraplegic marine is di...  \n",
       "1  captain barbossa, long believed to be dead, ha...  \n",
       "2  a cryptic message from bond’s past sends him o...  \n",
       "3  following the death of district attorney harve...  \n",
       "4  john carter is a war-weary, former military ca...  "
      ]
     },
     "execution_count": 97,
     "metadata": {},
     "output_type": "execute_result"
    }
   ],
   "source": [
    "new_df.head()"
   ]
  },
  {
   "attachments": {},
   "cell_type": "markdown",
   "metadata": {},
   "source": [
    "## Text vectorisation\n",
    "- Convert Text to vector\n",
    "- The technique we use is called Bag of words\n",
    "- Some other techniques are tf_idf , word2vec etc"
   ]
  },
  {
   "cell_type": "code",
   "execution_count": 98,
   "metadata": {},
   "outputs": [],
   "source": [
    "from sklearn.feature_extraction.text import CountVectorizer\n",
    "cv = CountVectorizer(max_features = 5000, stop_words = \"english\")"
   ]
  },
  {
   "cell_type": "code",
   "execution_count": 99,
   "metadata": {},
   "outputs": [
    {
     "data": {
      "text/plain": [
       "array([[0, 0, 0, ..., 0, 0, 0],\n",
       "       [0, 0, 0, ..., 0, 0, 0],\n",
       "       [0, 0, 0, ..., 0, 0, 0],\n",
       "       ...,\n",
       "       [0, 0, 0, ..., 0, 0, 0],\n",
       "       [0, 0, 0, ..., 0, 0, 0],\n",
       "       [0, 0, 0, ..., 0, 0, 0]], dtype=int64)"
      ]
     },
     "execution_count": 99,
     "metadata": {},
     "output_type": "execute_result"
    }
   ],
   "source": [
    "cv.fit_transform(new_df['tags']).toarray()"
   ]
  },
  {
   "cell_type": "code",
   "execution_count": 100,
   "metadata": {},
   "outputs": [
    {
     "data": {
      "text/plain": [
       "(4806, 5000)"
      ]
     },
     "execution_count": 100,
     "metadata": {},
     "output_type": "execute_result"
    }
   ],
   "source": [
    "cv.fit_transform(new_df['tags']).toarray().shape"
   ]
  },
  {
   "attachments": {},
   "cell_type": "markdown",
   "metadata": {},
   "source": [
    "We have 4806 movies which we have converted into 5000 dimentions"
   ]
  },
  {
   "cell_type": "code",
   "execution_count": 101,
   "metadata": {},
   "outputs": [
    {
     "data": {
      "text/plain": [
       "array([[0, 0, 0, ..., 0, 0, 0],\n",
       "       [0, 0, 0, ..., 0, 0, 0],\n",
       "       [0, 0, 0, ..., 0, 0, 0],\n",
       "       ...,\n",
       "       [0, 0, 0, ..., 0, 0, 0],\n",
       "       [0, 0, 0, ..., 0, 0, 0],\n",
       "       [0, 0, 0, ..., 0, 0, 0]], dtype=int64)"
      ]
     },
     "execution_count": 101,
     "metadata": {},
     "output_type": "execute_result"
    }
   ],
   "source": [
    "vectors = cv.fit_transform(new_df['tags']).toarray()\n",
    "vectors"
   ]
  },
  {
   "cell_type": "code",
   "execution_count": 102,
   "metadata": {},
   "outputs": [
    {
     "name": "stdout",
     "output_type": "stream",
     "text": [
      "Total most appeared names : 5000 \n",
      "\n",
      " ['000', '007', '10', '100', '11', '12', '13', '14', '15', '16', '17', '18', '18th', '19', '1930s', '1940s', '1944', '1950', '1950s', '1960s', '1970s', '1971', '1974', '1976', '1980', '1980s', '1985', '1990s', '1999', '19th', '19thcentury', '20', '200', '2003', '2009', '20th', '24', '25', '30', '300', '3d', '40', '50', '500', '60', '60s', '70', 'aaron', 'aaroneckhart', 'abandoned', 'abducted', 'abigailbreslin', 'abilities', 'ability', 'able', 'aboard', 'abuse', 'abusive', 'academic', 'academy', 'accept', 'accepted', 'accepts', 'access', 'accident', 'accidental', 'accidentally', 'accompanied', 'accomplish', 'account', 'accountant', 'accused', 'ace', 'achieve', 'act', 'acting', 'action', 'actionhero', 'actions', 'activist', 'activities', 'activity', 'actor', 'actors', 'actress', 'acts', 'actual', 'actually', 'adam', 'adams', 'adamsandler', 'adamshankman', 'adaptation', 'adapted', 'addict', 'addicted', 'addiction', 'adolescence', 'adopt', 'adopted', 'adoption', 'adopts', 'adrienbrody', 'adult', 'adultery', 'adulthood', 'adults', 'advantage', 'adventure', 'adventures', 'advertising', 'advice', 'affair', 'affairs', 'affection', 'affections', 'afghanistan', 'africa', 'african', 'africanamerican', 'aftercreditsstinger', 'afterlife', 'aftermath', 'age', 'aged', 'agedifference', 'agency', 'agenda', 'agent', 'agents', 'aggressive', 'aging', 'ago', 'agree', 'agrees', 'ahead', 'aid', 'aided', 'aids', 'ailing', 'air', 'airplane', 'airplanecrash', 'airport', 'aka', 'al', 'alabama', 'alan', 'alaska', 'albert', 'alcohol', 'alcoholic', 'alcoholism', 'alecbaldwin', 'alex', 'alfredhitchcock', 'ali', 'alice', 'alien', 'alieninvasion', 'alienlife', 'aliens', 'alike', 'alive', 'allen', 'alliance', 'allied', 'allies', 'allow', 'allows', 'ally', 'alongside', 'alpacino', 'alter', 'alternate', 'alternative', 'alzheimer', 'amanda', 'amandapeet', 'amandaseyfried', 'amateur', 'amazing', 'ambassador', 'ambition', 'ambitious', 'ambulance', 'ambush', 'america', 'american', 'americanabroad', 'americanfootball', 'americans', 'amid', 'amidst', 'amnesia', 'amp', 'amsterdam', 'amusementpark', 'amy', 'amyadams', 'amysmart', 'analyst', 'anarchiccomedy', 'ancient', 'ancientrome', 'ancientworld', 'anderson', 'andiemacdowell', 'andrew', 'android', 'andy', 'andygarcía', 'angel', 'angelabassett', 'angeles', 'angelinajolie', 'angels', 'anger', 'anglee', 'angry', 'animal', 'animalattack', 'animalhorror', 'animals', 'animated', 'animation', 'ann', 'anna', 'annabelle', 'annafaris', 'annakendrick', 'anne', 'annehathaway', 'annemoss', 'annettebening', 'annie', 'anniversary', 'announces', 'annual', 'anonymity', 'anonymous', 'answer', 'answers', 'ant', 'antarctic', 'anthology', 'anthony', 'anthonyanderson', 'anthonyhopkins', 'anthonymackie', 'anthropomorphism', 'anti', 'antics', 'antihero', 'antoinefuqua', 'antoniobanderas', 'antonyelchin', 'apart', 'apartheid', 'apartment', 'ape', 'apes', 'apocalypse', 'apocalyptic', 'apparent', 'apparently', 'appear', 'appears', 'apple', 'appointed', 'apprentice', 'approach', 'approaches', 'approaching', 'april', 'aquarium', 'arab', 'arch', 'archaeologist', 'archeology', 'archer', 'architect', 'arctic', 'area', 'aren', 'arena', 'argument', 'arise', 'aristocrat', 'armed', 'arms', 'army', 'arnold', 'arnoldschwarzenegger', 'arrangedmarriage', 'arrangement', 'arrest', 'arrested', 'arrival', 'arrive', 'arrives', 'arriving', 'arrogant', 'art', 'arthur', 'artificialintelligence', 'artist', 'artistic', 'artists', 'arts', 'ashley', 'ashleyjudd', 'ashtonkutcher', 'asia', 'aside', 'ask', 'asked', 'asking', 'asks', 'aspirations', 'aspiring', 'assassin', 'assassinate', 'assassination', 'assassins', 'assault', 'assigned', 'assignment', 'assistant', 'assumes', 'asteroid', 'astronaut', 'astronauts', 'asylum', 'atheist', 'athlete', 'atlantic', 'atomicbomb', 'attack', 'attacked', 'attacks', 'attempt', 'attempting', 'attempts', 'attending', 'attends', 'attention', 'attic', 'attitude', 'attorney', 'attracted', 'attraction', 'attractive', 'audience', 'audiences', 'audition', 'august', 'aunt', 'austin', 'australia', 'australian', 'author', 'authorities', 'authority', 'autism', 'auto', 'avenge', 'average', 'avoid', 'awaits', 'awakens', 'award', 'away', 'awry', 'ax', 'babe', 'baby', 'bachelor', 'backdrop', 'background', 'backgrounds', 'bad', 'bag', 'bahamas', 'bail', 'balance', 'ball', 'ballet', 'baltimore', 'band', 'bandits', 'bangkok', 'banished', 'bank', 'banker', 'bankrobber', 'bankrobbery', 'bar', 'barely', 'bargained', 'barn', 'barney', 'barry', 'barrylevinson', 'barrysonnenfeld', 'bars', 'base', 'baseball', 'based', 'basedoncomicbook', 'basedongraphicnovel', 'basedonnovel', 'basedonplay', 'basedonstagemusical', 'basedontrueevents', 'basedontruestory', 'basedontvseries', 'basedonvideogame', 'basedonyoungadultnovel', 'basement', 'basketball', 'batman', 'battle', 'battlefield', 'battles', 'battling', 'bay', 'beach', 'bear', 'bears', 'beast', 'beasts', 'beat', 'beating', 'beautiful', 'beautifulwoman', 'beauty', 'becky', 'becominganadult', 'bed', 'bedroom', 'beer', 'befriends', 'began', 'begin', 'beginning', 'begins', 'behavior', 'beings', 'beliefs', 'believe', 'believed', 'believes', 'believing', 'beloved', 'ben', 'benaffleck', 'beneath', 'benfoster', 'beniciodeltoro', 'benjamin', 'benjaminbratt', 'benkingsley', 'bennett', 'benstiller', 'bent', 'berlin', 'best', 'bestfriend', 'bet', 'beth', 'betrayal', 'betrayed', 'bettemidler', 'better', 'betty', 'beverly', 'bible', 'big', 'bigger', 'biggest', 'biker', 'bikini', 'billhader', 'billionaire', 'billmurray', 'billnighy', 'billpaxton', 'billpullman', 'billy', 'billybobthornton', 'billycrudup', 'billycrystal', 'biography', 'bird', 'birth', 'birthday', 'bisexual', 'bishop', 'bit', 'bite', 'bitter', 'bizarre', 'black', 'blackmagic', 'blackmail', 'blackpeople', 'blade', 'blame', 'blind', 'bliss', 'block', 'blonde', 'blood', 'bloodsplatter', 'bloodthirsty', 'bloody', 'blow', 'blue', 'board', 'boarding', 'boardingschool', 'boat', 'bob', 'bobby', 'bobbyfarrelly', 'bobhoskins', 'bodies', 'body', 'bodyguard', 'bold', 'bollywood', 'bomb', 'bombing', 'bond', 'bonds', 'bone', 'book', 'books', 'border', 'bored', 'boredom', 'boring', 'born', 'boss', 'boston', 'botched', 'bound', 'boundaries', 'bounty', 'bountyhunter', 'box', 'boxer', 'boxing', 'boy', 'boyfriend', 'boys', 'bradleycooper', 'bradpitt', 'brain', 'brand', 'brandon', 'brave', 'bravery', 'brazil', 'brazilian', 'break', 'breakdown', 'breaking', 'breaks', 'breast', 'brendanfraser', 'brendangleeson', 'brent', 'brettratner', 'brian', 'briandepalma', 'bride', 'bridge', 'brief', 'brien', 'bright', 'brilliant', 'bring', 'bringing', 'brings', 'brink', 'britain', 'british', 'britishsecretservice', 'brittanymurphy', 'broadway', 'broke', 'broken', 'broker', 'brooklyn', 'brooks', 'brothel', 'brother', 'brotherbrotherrelationship', 'brothers', 'brothersisterrelationship', 'brought', 'brown', 'bruce', 'brucewillis', 'brutal', 'brutality', 'brutally', 'bryansinger', 'buck', 'buddies', 'buddy', 'buddycomedy', 'budget', 'build', 'building', 'built', 'bully', 'bullying', 'bumbling', 'bunny', 'burglar', 'buried', 'bus', 'bush', 'business', 'businessman', 'bust', 'busy', 'butler', 'buy', 'cabin', 'caesar', 'cage', 'cairo', 'cal', 'california', 'called', 'calls', 'calvin', 'camcorder', 'came', 'camera', 'cameraman', 'cameras', 'camerondiaz', 'camp', 'campaign', 'campbell', 'camping', 'campus', 'canada', 'canadian', 'cancer', 'candidate', 'candy', 'cannibal', 'capable', 'capital', 'capitalism', 'capt', 'captain', 'captive', 'capture', 'captured', 'captures', 'car', 'caraccident', 'carchase', 'carcrash', 'card', 'care', 'career', 'carefree', 'caretaker', 'caribbean', 'carjourney', 'carl', 'carlagugino', 'carmen', 'carol', 'carolina', 'carrace', 'carrie', 'carry', 'carrying', 'cars', 'cartel', 'carter', 'cartoon', 'caryelwes', 'case', 'caseyaffleck', 'cash', 'casino', 'cast', 'castle', 'cat', 'cataclysm', 'catastrophe', 'catch', 'catches', 'cateblanchett', 'catherinedeneuve', 'catherinekeener', 'catherinezeta', 'catholic', 'catholicism', 'cattle', 'caught', 'cause', 'caused', 'causes', 'causing', 'cavalry', 'cave', 'cavemen', 'celebrate', 'celebrated', 'celebration', 'celebrity', 'cell', 'cellphone', 'cemetery', 'center', 'centered', 'centers', 'central', 'centuries', 'century', 'ceo', 'ceremony', 'certain', 'chad', 'chain', 'chainsaw', 'challenge', 'challenged', 'challenges', 'champion', 'championship', 'chance', 'change', 'changed', 'changes', 'changing', 'channingtatum', 'chaos', 'chaotic', 'chapter', 'character', 'characters', 'charge', 'charged', 'charismatic', 'charles', 'charlie', 'charliesheen', 'charlizetheron', 'charlotte', 'charm', 'charming', 'chase', 'chased', 'chauffeur', 'cheating', 'cheerleader', 'chef', 'chemical', 'cher', 'chicago', 'chicken', 'chief', 'child', 'childabuse', 'childhero', 'childhood', 'children', 'chilling', 'china', 'chinese', 'chip', 'chiwetelejiofor', 'chloëgracemoretz', 'chloësevigny', 'chocolate', 'choice', 'choices', 'choose', 'chosen', 'chris', 'chriscolumbus', 'chriscooper', 'chrisevans', 'chrishemsworth', 'chrisklein', 'chrispine', 'chrisrock', 'christ', 'christian', 'christianbale', 'christianity', 'christianslater', 'christinaapplegate', 'christinaricci', 'christine', 'christmas', 'christmasparty', 'christmastree', 'christopher', 'christopherlambert', 'christopherlloyd', 'christophernolan', 'christopherplummer', 'christopherwalken', 'christophwaltz', 'chronicle', 'chronicles', 'chuck', 'church', 'cia', 'cigarettesmoking', 'cillianmurphy', 'cinema', 'circle', 'circuit', 'circumstances', 'circus', 'cities', 'citizens', 'city', 'civil', 'civilization', 'civilwar', 'claim', 'claims', 'claire', 'clairedanes', 'clan', 'clark', 'clash', 'class', 'classes', 'classic', 'classmate', 'classmates', 'classroom', 'claudevandamme', 'clay', 'clean', 'clear', 'clerk', 'client', 'clients', 'climate', 'climbing', 'clinteastwood', 'cliveowen', 'clock', 'clone', 'cloning', 'close', 'closer', 'club', 'clubs', 'clues', 'clutches', 'coach', 'coast', 'cocaine', 'code', 'cody', 'coffin', 'cohen', 'col', 'cold', 'coldwar', 'cole', 'colin', 'colinfarrell', 'colinfirth', 'collapse', 'colleague', 'colleagues', 'collect', 'collection', 'collector', 'college', 'collide', 'collins', 'collision', 'colombia', 'colonel', 'colony', 'color', 'colorado', 'colorful', 'coma', 'combat', 'combination', 'combined', 'come', 'comeback', 'comedian', 'comedic', 'comedy', 'comes', 'comet', 'comfort', 'comic', 'comics', 'coming', 'comingofage', 'comingout', 'command', 'commander', 'commercial', 'commit', 'commitment', 'committed', 'common', 'communication', 'communist', 'community', 'companion', 'company', 'compete', 'competing', 'competition', 'competitive', 'complete', 'completely', 'complex', 'complicated', 'complications', 'composer', 'computer', 'computervirus', 'conan', 'concert', 'conclusion', 'condition', 'conditions', 'confession', 'confidence', 'confident', 'conflict', 'confront', 'confronted', 'confused', 'congress', 'conman', 'connected', 'connection', 'connell', 'connor', 'conquer', 'conscience', 'consequences', 'conservative', 'considered', 'conspiracy', 'constant', 'constantly', 'construction', 'contact', 'contain', 'contemporary', 'contend', 'contest', 'continue', 'continues', 'continuing', 'contract', 'control', 'controlled', 'controlling', 'controversial', 'convention', 'converge', 'convict', 'convicted', 'convince', 'convinced', 'convinces', 'cook', 'cooking', 'cool', 'cooper', 'cop', 'cope', 'cops', 'core', 'corner', 'corners', 'corporate', 'corporation', 'corpse', 'corrupt', 'corruption', 'cost', 'costume', 'couldn', 'count', 'country', 'countryhouse', 'countrymusic', 'countryside', 'county', 'coup', 'couple', 'couples', 'courage', 'courageous', 'course', 'court', 'courtcase', 'courteneycox', 'courtroom', 'cousin', 'cover', 'covert', 'cow', 'cowardliness', 'cowboy', 'crab', 'crack', 'craft', 'craig', 'crane', 'crash', 'crashes', 'crashing', 'crazy', 'create', 'created', 'creates', 'creation', 'creator', 'creature', 'creatures', 'credit', 'creepy', 'crew', 'crime', 'crimefighter', 'crimes', 'criminal', 'criminals', 'crisis', 'critical', 'crocodile', 'crook', 'crooked', 'cross', 'crossdressing', 'crossed', 'crosses', 'crown', 'crucifixion', 'cruel', 'cruelty', 'cruise', 'crush', 'crystal', 'cuba', 'cubagoodingjr', 'cult', 'cultfilm', 'cultural', 'culture', 'cultureclash', 'cunning', 'cup', 'cure', 'curiosity', 'curious', 'current', 'curse', 'cursed', 'curtishanson', 'custody', 'customers', 'cut', 'cuts', 'cuttingthecord', 'cyberpunk', 'cyborg', 'cynical', 'dad', 'daily', 'dakotafanning', 'dale', 'damage', 'damon', 'dan', 'danaykroyd', 'dance', 'dancer', 'dancing', 'danger', 'dangerous', 'dangers', 'daniel', 'danielcraig', 'danielday', 'danielradcliffe', 'danny', 'dannyboyle', 'dannydevito', 'dannyglover', 'darcy', 'dare', 'daring', 'dark', 'darkcomedy', 'darkest', 'darkness', 'darylhannah', 'dashing', 'date', 'dates', 'dating', 'daughter', 'daughters', 'dave', 'david', 'davidarquette', 'davidduchovny', 'davidfincher', 'davidgordongreen', 'davidmorse', 'davido', 'davis', 'daxshepard', 'day', 'days', 'dc', 'dccomics', 'dea', 'dead', 'deadly', 'deaf', 'deal', 'dealer', 'dealers', 'dealing', 'deals', 'dean', 'death', 'deathofafriend', 'deathpenalty', 'deaths', 'debt', 'debut', 'decade', 'decades', 'decapitation', 'deceased', 'deceit', 'deception', 'decide', 'decided', 'decides', 'decision', 'decisions', 'dedicated', 'deeds', 'deep', 'deeper', 'deeply', 'defeat', 'defend', 'defense', 'deliver', 'delivers', 'delusion', 'demanding', 'demands', 'demimoore', 'demon', 'demonic', 'demonicpossession', 'demons', 'dennisdugan', 'dennishopper', 'dennisquaid', 'dentist', 'denzelwashington', 'department', 'depressed', 'depression', 'deputy', 'deranged', 'derek', 'descend', 'desert', 'deserted', 'designed', 'desire', 'desires', 'desolate', 'despair', 'desperate', 'desperately', 'desperation', 'despite', 'destined', 'destiny', 'destroy', 'destroyed', 'destroying', 'destruction', 'details', 'detective', 'detectives', 'determination', 'determine', 'determined', 'detroit', 'devastating', 'develop', 'developed', 'develops', 'device', 'devil', 'devoted', 'diabolical', 'dialogue', 'diamond', 'diane', 'dianekeaton', 'dianekruger', 'dianelane', 'diary', 'dick', 'dictator', 'did', 'didn', 'die', 'died', 'diego', 'dies', 'differences', 'different', 'difficult', 'digging', 'dignity', 'diner', 'dinner', 'dinosaur', 'dinosaurs', 'dire', 'directed', 'direction', 'director', 'dirt', 'dirty', 'dirtycop', 'disabled', 'disappearance', 'disappeared', 'disappears', 'disaster', 'disastrous', 'discover', 'discovered', 'discovering', 'discovers', 'discovery', 'disease', 'disfigurement', 'disgraced', 'disguise', 'dishonesty', 'disillusioned', 'disney', 'disorder', 'dispatched', 'distant', 'district', 'distrust', 'disturbed', 'disturbing', 'diva', 'divided', 'division', 'divorce', 'divorced', 'dna', 'doc', 'doctor', 'document', 'documentary', 'documents', 'does', 'doesn', 'dog', 'dogs', 'doing', 'doll', 'dollar', 'dollars', 'dolphin', 'domination', 'don', 'donaldpetrie', 'donaldsutherland', 'doncheadle', 'donnell', 'doomed', 'door', 'dorothy', 'double', 'doublelife', 'doubt', 'doubts', 'doug', 'douglas', 'dr', 'dracula', 'drag', 'dragon', 'drama', 'dramatic', 'draw', 'drawing', 'drawn', 'draws', 'dream', 'dreams', 'drew', 'drewbarrymore', 'drifter', 'drink', 'drinking', 'drive', 'driven', 'driver', 'drives', 'driving', 'drop', 'drowning', 'drug', 'drugabuse', 'drugaddiction', 'drugdealer', 'druglord', 'drugs', 'drugtraffic', 'drunk', 'drunken', 'du', 'dualidentity', 'dude', 'duel', 'duke', 'dumped', 'duo', 'duringcreditsstinger', 'dustinhoffman', 'dutch', 'duty', 'dwarves', 'dwaynejohnson', 'dying', 'dyinganddeath', 'dylan', 'dynamic', 'dynasty', 'dysfunctional', 'dysfunctionalfamily', 'dystopia', 'dystopicfuture', 'eager', 'earlier', 'early', 'earn', 'earth', 'earthquake', 'east', 'easy', 'eating', 'eccentric', 'economic', 'economy', 'eddie', 'eddiegriffin', 'eddiemurphy', 'edge', 'edharris', 'editor', 'education', 'edward', 'edwardburns', 'edwardnorton', 'effort', 'efforts', 'egg', 'ego', 'egypt', 'egyptian', 'el', 'elaborate', 'elderly', 'election', 'elements', 'elephant', 'eliaskoteas', 'elijahwood', 'eliminate', 'elisabethshue', 'elite', 'elizabeth', 'elizabethbanks', 'ella', 'ellenburstyn', 'ellenpage', 'ellie', 'elliot', 'elliott', 'ellis', 'elusive', 'elves', 'elvis', 'embark', 'embarking', 'embarks', 'embassy', 'embroiled', 'emerge', 'emergency', 'emerges', 'emilehirsch', 'emily', 'emilyblunt', 'emilymortimer', 'emilywatson', 'emma', 'emmaroberts', 'emmastone', 'emmathompson', 'emmawatson', 'emotional', 'emotionally', 'emotions', 'emperor', 'empire', 'employee', 'employees', 'employer', 'employs', 'encounter', 'encounters', 'end', 'ended', 'ending', 'endless', 'endoftheworld', 'ends', 'enemies', 'enemy', 'energy', 'enforcement', 'engaged', 'engagement', 'engineer', 'england', 'english', 'enigmatic', 'enjoy', 'enlist', 'enlists', 'enormous', 'ensemblecast', 'ensues', 'ensure', 'entangled', 'enter', 'enterprise', 'enters', 'entertainer', 'entertaining', 'entire', 'entirely', 'entity', 'environment', 'environmental', 'epic', 'epidemic', 'era', 'eric', 'ericbana', 'erin', 'ernest', 'eroticism', 'erupts', 'escapade', 'escape', 'escaped', 'escapes', 'escaping', 'escort', 'especially', 'espionage', 'establishment', 'estate', 'estranged', 'eternal', 'ethan', 'ethancoen', 'ethanhawke', 'europe', 'european', 'eva', 'evacuation', 'evamendes', 'evanrachelwood', 'eve', 'evening', 'event', 'events', 'eventually', 'everybody', 'everyday', 'evidence', 'evil', 'evolution', 'ewanmcgregor', 'ex', 'exact', 'exactly', 'examines', 'exchange', 'exciting', 'exclusive', 'execution', 'executive', 'exercise', 'exist', 'existed', 'existence', 'existentialism', 'exists', 'exorcism', 'exotic', 'exoticisland', 'expectations', 'expected', 'expects', 'expedition', 'experience', 'experienced', 'experiences', 'experiencing', 'experiment', 'expert', 'explorers', 'explores', 'exploring', 'explosion', 'explosive', 'expose', 'exposed', 'exposes', 'extra', 'extramaritalaffair', 'extraordinary', 'extraterrestrial', 'extraterrestrialtechnology', 'extreme', 'extremely', 'extremeviolence', 'eye', 'eyes', 'face', 'faced', 'faces', 'facility', 'facing', 'fact', 'factions', 'factory', 'fail', 'failed', 'failing', 'fails', 'fairy', 'fairytale', 'faith', 'fake', 'fall', 'fallen', 'falling', 'fallinginlove', 'falls', 'falseidentity', 'falselyaccused', 'fame', 'famed', 'families', 'family', 'familyrelationships', 'famkejanssen', 'famous', 'fan', 'fangvamp', 'fans', 'fantasies', 'fantastic', 'fantasy', 'fantasyworld', 'far', 'farewell', 'farm', 'farmer', 'farmhouse', 'fascinated', 'fashion', 'fast', 'faster', 'fat', 'fatal', 'fate', 'fateful', 'father', 'fatherdaughterrelationship', 'fathersonrelationship', 'favorite', 'fbi', 'fbiagent', 'fear', 'fears', 'fearsome', 'feature', 'features', 'featuring', 'federation', 'feel', 'feeling', 'feelings', 'feels', 'feet', 'fellow', 'female', 'femalefriendship', 'femalenudity', 'femaleprotagonist', 'festival', 'feud', 'fi', 'fiancee', 'fiancé', 'fiancée', 'fiction', 'fictional', 'fictionalplace', 'field', 'fields', 'fierce', 'fifth', 'fight', 'fighter', 'fighters', 'fighting', 'fights', 'figure', 'figures', 'files', 'filled', 'film', 'filmdirector', 'filmed', 'filming', 'filmmaker', 'filmmakers', 'filmmaking', 'filmproducer', 'films', 'final', 'finale', 'finally', 'financial', 'finding', 'finds', 'fine', 'finish', 'finished', 'finn', 'fired', 'firemen', 'fireworks', 'firm', 'firsttime', 'fish', 'fisherman', 'fishing', 'fishoutofwater', 'fistfight', 'fit', 'fix', 'flame', 'flashback', 'flee', 'flees', 'flesh', 'flight', 'fling', 'flint', 'flirt', 'flood', 'florida', 'flower', 'fly', 'flying', 'flyingsaucer', 'focus', 'focuses', 'foil', 'follow', 'followed', 'following', 'follows', 'food', 'foot', 'footage', 'football', 'footchase', 'forbidden', 'forbiddenlove', 'force', 'forced', 'forces', 'forcing', 'ford', 'foreign', 'forest', 'forestwhitaker', 'forever', 'forget', 'forgiveness', 'form', 'formidable', 'forms', 'formula', 'fort', 'fortune', 'fortuneteller', 'forward', 'foster', 'fought', 'foundfootage', 'fourth', 'fox', 'framed', 'france', 'franchise', 'francis', 'francisco', 'francisfordcoppola', 'frank', 'frankenstein', 'frankie', 'frankoz', 'fraternity', 'fraud', 'freak', 'fred', 'freddieprinzejr', 'freddy', 'free', 'freedom', 'french', 'fresh', 'freshman', 'friend', 'friendly', 'friends', 'friendship', 'frightening', 'frog', 'frontier', 'frozen', 'frustrated', 'fu', 'fugitive', 'fulfill', 'fully', 'fun', 'fund', 'funeral', 'funny', 'furious', 'future', 'futuristic', 'gabrielbyrne', 'gain', 'galaxy', 'gambler', 'gambling', 'game', 'games', 'gandhi', 'gang', 'gangs', 'gangster', 'gangsters', 'garage', 'garden', 'garrymarshall', 'gary', 'garygray', 'garyoldman', 'garysinise', 'gas', 'gasstation', 'gather', 'gave', 'gay', 'gayrelationship', 'genehackman', 'general', 'generation', 'generations', 'genetic', 'genetically', 'genetics', 'genius', 'genocide', 'genre', 'gentle', 'geoffreyrush', 'george', 'georgea', 'georgeclooney', 'georgemiller', 'georgia', 'gerardbutler', 'german', 'germans', 'germany', 'getaway', 'gets', 'getting', 'ghetto', 'ghost', 'ghosts', 'giant', 'giantrobot', 'giants', 'gift', 'gifted', 'gig', 'girl', 'girlfriend', 'girlfriends', 'girls', 'given', 'gives', 'giving', 'gladiator', 'glamorous', 'glass', 'glennclose', 'global', 'globe', 'glory', 'goal', 'god', 'gods', 'goes', 'going', 'gold', 'golden', 'golf', 'gone', 'good', 'goodvsevil', 'goons', 'gordon', 'gore', 'goreverbinski', 'gorgeous', 'gorilla', 'gossip', 'got', 'gotham', 'gothamcity', 'gotten', 'government', 'governor', 'grace', 'grade', 'gradually', 'graduate', 'graduation', 'grand', 'grandfather', 'grandmother', 'granny', 'grant', 'graphic', 'grave', 'great', 'greater', 'greatest', 'greece', 'greed', 'greedy', 'greek', 'green', 'greg', 'gregkinnear', 'gregorypeck', 'grew', 'grief', 'grieving', 'griffin', 'grim', 'grip', 'grisly', 'gritty', 'ground', 'group', 'groupoffriends', 'grow', 'growing', 'growingup', 'grown', 'grows', 'gruesome', 'guard', 'guardian', 'guerrilla', 'guest', 'guests', 'guidance', 'guide', 'guilt', 'guilty', 'guitar', 'gun', 'gunfight', 'gunman', 'guns', 'gunslinger', 'guru', 'gusvansant', 'guy', 'guypearce', 'guyritchie', 'guys', 'gwynethpaltrow', 'gym', 'gypsy', 'hacker', 'hacking', 'hair', 'haleyjoelosment', 'half', 'hall', 'halleberry', 'halloween', 'hallucination', 'hand', 'handed', 'hands', 'handsome', 'handtohandcombat', 'hang', 'hanging', 'hangs', 'hannah', 'happen', 'happened', 'happening', 'happens', 'happily', 'happiness', 'happy', 'hara', 'harbor', 'hard', 'harlem', 'harmony', 'harold', 'haroldramis', 'harrisonford', 'harry', 'harsh', 'hart', 'harvard', 'harvey', 'harveykeitel', 'hasn', 'hatches', 'hate', 'hatred', 'haunt', 'haunted', 'hauntedhouse', 'haunting', 'haven', 'having', 'havoc', 'hawaii', 'haydenchristensen', 'head', 'headed', 'heading', 'headquarters', 'heads', 'healing', 'health', 'hear', 'hearing', 'hears', 'heart', 'heartbreak', 'hearted', 'hearts', 'heather', 'heathledger', 'heaven', 'heavily', 'heavy', 'heavymetal', 'heir', 'heiress', 'heist', 'held', 'helen', 'helenabonhamcarter', 'helenhunt', 'helenmirren', 'helicopter', 'hell', 'help', 'helped', 'helping', 'helps', 'henchmen', 'henry', 'hero', 'heroes', 'heroic', 'heroin', 'heroism', 'hidden', 'hide', 'hiding', 'high', 'highest', 'highly', 'highschool', 'highschoolsports', 'highschoolstudent', 'highway', 'hijack', 'hijacking', 'hilarious', 'hilaryswank', 'hill', 'hills', 'himalaya', 'hip', 'hippie', 'hire', 'hired', 'hires', 'historic', 'historical', 'historicalfigure', 'history', 'hit', 'hitchhiker', 'hitman', 'hits', 'ho', 'hockey', 'hold', 'holding', 'holds', 'hole', 'holiday', 'hollywood', 'home', 'homeinvasion', 'homeland', 'homeless', 'homelessperson', 'hometown', 'homicidal', 'homicide', 'homosexuality', 'honey', 'honeymoon', 'hong', 'hongkong', 'honor', 'hood', 'hoodlum', 'hook', 'hop', 'hope', 'hopedavis', 'hopelessly', 'hopes', 'hoping', 'hopper', 'horrible', 'horrific', 'horrifying', 'horror', 'horrors', 'horse', 'hospital', 'host', 'hostage', 'hostile', 'hostility', 'hot', 'hotel', 'hotelroom', 'hour', 'hours', 'house', 'housekeeper', 'housewife', 'housing', 'howard', 'huge', 'hughgrant', 'hughjackman', 'human', 'humananimalrelationship', 'humanity', 'humankind', 'humans', 'humiliation', 'humor', 'hundreds', 'hunger', 'hungry', 'hunt', 'hunted', 'hunter', 'hunters', 'hunting', 'hurricane', 'husband', 'hustler', 'hypnosis', 'hyun', 'ianmckellen', 'ice', 'icecube', 'iconic', 'idea', 'idealistic', 'identities', 'identity', 'idol', 'idyllic', 'ignoring', 'ii', 'iii', 'il', 'ill', 'illegal', 'illegalimmigration', 'illegalprostitution', 'illness', 'image', 'imaginary', 'imagination', 'imagined', 'imax', 'immediately', 'immigrant', 'immigrants', 'immigration', 'immortal', 'immortality', 'impact', 'imperial', 'important', 'impossible', 'imprisoned', 'imprisonment', 'inadvertently', 'incest', 'incident', 'include', 'includes', 'including', 'increasingly', 'incredible', 'independence', 'independent', 'independentfilm', 'india', 'indian', 'indiana', 'indianlead', 'indians', 'individual', 'industry', 'infamous', 'infant', 'infected', 'infection', 'infidelity', 'infiltrate', 'influence', 'informant', 'information', 'inhabitants', 'inheritance', 'inherits', 'initially', 'injured', 'injury', 'inmates', 'inner', 'innocence', 'innocent', 'insane', 'insanity', 'inside', 'insists', 'insomnia', 'inspector', 'inspiration', 'inspired', 'inspires', 'inspiring', 'installment', 'instant', 'instantly', 'instead', 'institution', 'instructor', 'insurance', 'intelligence', 'intelligent', 'intends', 'intense', 'intent', 'intentions', 'intergalactic', 'international', 'internet', 'interrogation', 'interspeciesromance', 'intertwine', 'interview', 'interviews', 'intimate', 'intrigue', 'introduces', 'invaders', 'invading', 'invasion', 'invention', 'inventor', 'investigate', 'investigates', 'investigating', 'investigation', 'investigator', 'investment', 'invisible', 'invites', 'involved', 'involves', 'involving', 'iowa', 'ira', 'iran', 'iranian', 'iraq', 'ireland', 'irish', 'island', 'isn', 'isolated', 'isolation', 'israel', 'israeli', 'issues', 'italian', 'italy', 'ivanreitman', 'jack', 'jackblack', 'jackie', 'jackiechan', 'jacknicholson', 'jackson', 'jadapinkettsmith', 'jail', 'jake', 'jakegyllenhaal', 'james', 'jamescaan', 'jamesfranco', 'jamesmangold', 'jamesmarsden', 'jamesmcavoy', 'jameswoods', 'jamie', 'jamiefoxx', 'jamieleecurtis', 'jane', 'japan', 'japanese', 'jason', 'jasonbateman', 'jasonbiggs', 'jasonlee', 'jasonsegel', 'jasonstatham', 'javierbardem', 'jay', 'jayroach', 'jazz', 'jealous', 'jealousy', 'jean', 'jeanreno', 'jedi', 'jeff', 'jeffbridges', 'jeffdaniels', 'jeffgoldblum', 'jennifer', 'jenniferaniston', 'jenniferconnelly', 'jennifergarner', 'jenniferjasonleigh', 'jenniferlawrence', 'jenniferlopez', 'jenniferlovehewitt', 'jeremyirons', 'jerry', 'jersey', 'jerusalem', 'jess', 'jesse', 'jessebradford', 'jesseeisenberg', 'jessica', 'jessicaalba', 'jessicabiel', 'jessicachastain', 'jesus', 'jesuschrist', 'jetli', 'jew', 'jewel', 'jewish', 'jigsaw', 'jill', 'jim', 'jimbroadbent', 'jimcarrey', 'jimcaviezel', 'jimmy', 'jin', 'joanallen', 'joancusack', 'joaquinphoenix', 'job', 'jobs', 'jodiefoster', 'joe', 'joel', 'joelcoen', 'joelschumacher', 'joepesci', 'joey', 'john', 'johnc', 'johncarpenter', 'johncusack', 'johngoodman', 'johnhurt', 'johnleguizamo', 'johnmalkovich', 'johnmctiernan', 'johnny', 'johnnydepp', 'johnson', 'johntravolta', 'johnturturro', 'join', 'joined', 'joining', 'joins', 'jon', 'jonahhill', 'jonathan', 'jonathanfrakes', 'jonathanrhysmeyers', 'jones', 'jonfavreau', 'jonvoight', 'jordan', 'joseph', 'josephgordon', 'josh', 'joshbrolin', 'joshhartnett', 'joshhutcherson', 'journalism', 'journalist', 'journey', 'journeys', 'joy', 'jr', 'judelaw', 'judge', 'judidench', 'julia', 'julian', 'juliannemoore', 'juliaroberts', 'juliastiles', 'julie', 'july', 'jungle', 'junior', 'junkie', 'just', 'justice', 'justinlong', 'justintimberlake', 'kansas', 'karate', 'karen', 'karlurban', 'kat', 'kate', 'katebeckinsale', 'katebosworth', 'katehudson', 'katemara', 'katewinslet', 'katherine', 'katherineheigl', 'kathy', 'kathybates', 'katie', 'katieholmes', 'katniss', 'kay', 'keanureeves', 'keeping', 'keeps', 'keiraknightley', 'kelly', 'ken', 'kennedy', 'kennethbranagh', 'kevin', 'kevinbacon', 'kevincostner', 'kevinhart', 'kevinjames', 'kevinkline', 'kevinsmith', 'kevinspacey', 'key', 'kgb', 'khan', 'kid', 'kidnap', 'kidnapped', 'kidnappers', 'kidnapping', 'kidnaps', 'kids', 'kidsandfamily', 'kiefersutherland', 'kill', 'killed', 'killer', 'killerrobot', 'killers', 'killing', 'kills', 'kim', 'kimbasinger', 'kind', 'king', 'kingdom', 'kingpin', 'kirk', 'kirstendunst', 'kiss', 'kit', 'kitchen', 'knew', 'knife', 'knight', 'know', 'knowing', 'knowledge', 'known', 'knows', 'kong', 'korea', 'korean', 'kriskristofferson', 'kristenbell', 'kristenstewart', 'kristenwiig', 'krueger', 'kung', 'kungfu', 'kurt', 'kurtrussell', 'kyle', 'la', 'lab', 'labor', 'laboratory', 'ladies', 'lady', 'ladykiller', 'laid', 'lake', 'land', 'landing', 'lands', 'landscape', 'lane', 'language', 'lapd', 'large', 'larger', 'largest', 'larry', 'las', 'lasergun', 'lassehallström', 'lasvegas', 'late', 'later', 'latest', 'launches', 'laura', 'lauralinney', 'laurencefishburne', 'lavish', 'law', 'lawman', 'lawrence', 'laws', 'lawyer', 'laxative', 'lazy', 'lead', 'leader', 'leaders', 'leadership', 'leading', 'leads', 'league', 'learn', 'learning', 'learns', 'leave', 'leaves', 'leaving', 'led', 'lee', 'left', 'legacy', 'legal', 'legend', 'legendary', 'legends', 'lenaheadey', 'leo', 'leon', 'leonardnimoy', 'leonardodicaprio', 'lesbian', 'lesbianrelationship', 'lesliemann', 'leslienielsen', 'lesson', 'lessons', 'let', 'lethal', 'letter', 'letters', 'level', 'levitt', 'lewis', 'lgbt', 'li', 'liamneeson', 'liar', 'liberation', 'lie', 'lies', 'lieutenant', 'lievschreiber', 'life', 'lifeanddeath', 'lifelong', 'lifestyle', 'lifetime', 'light', 'lightning', 'lights', 'like', 'likes', 'lillywachowski', 'lily', 'limits', 'lincoln', 'linda', 'lindsaylohan', 'line', 'lines', 'link', 'lion', 'lisa', 'lisakudrow', 'list', 'literally', 'literature', 'little', 'littleboy', 'live', 'liveactionandanimation', 'lived', 'lives', 'living', 'll', 'loan', 'local', 'locals', 'locate', 'location', 'locked', 'logan', 'loganlerman', 'lola', 'london', 'londonengland', 'lone', 'loneliness', 'lonely', 'loner', 'lonewolf', 'long', 'longer', 'longtime', 'look', 'looking', 'looks', 'loop', 'loose', 'loosely', 'lord', 'los', 'losangeles', 'lose', 'loser', 'loses', 'losing', 'loss', 'lossofbrother', 'lossofchild', 'lossoffamily', 'lossoffather', 'lossofhusband', 'lossoflover', 'lossofmother', 'lossofparents', 'lossofson', 'lost', 'lot', 'lottery', 'lou', 'louis', 'louisiana', 'lounge', 'lovable', 'love', 'loveatfirstsight', 'loved', 'loveless', 'loveletter', 'loveofone', 'lover', 'lovers', 'loves', 'lovesickness', 'lovetriangle', 'loving', 'low', 'loyal', 'loyalty', 'lt', 'lucas', 'luck', 'lucky', 'lucy', 'lucyliu', 'luke', 'lukewilson', 'lure', 'lured', 'lust', 'luxury', 'lying', 'ma', 'machine', 'machinegun', 'macy', 'mad', 'madame', 'madea', 'madison', 'madness', 'madonna', 'mafia', 'magazine', 'maggie', 'magic', 'magical', 'magician', 'magnate', 'maid', 'mail', 'main', 'maine', 'maintain', 'major', 'make', 'maker', 'makes', 'making', 'malcolm', 'malcolmd', 'male', 'malefemalerelationship', 'malefriendship', 'malenudity', 'malibu', 'mall', 'man', 'manager', 'manages', 'mandymoore', 'manhattan', 'manhunt', 'maniac', 'manipulation', 'mankind', 'manner', 'mannered', 'mansion', 'manvsmachine', 'map', 'marcforster', 'march', 'marcus', 'maria', 'mariabello', 'marie', 'marijuana', 'marine', 'marines', 'marisatomei', 'mark', 'markduplass', 'marked', 'market', 'marketing', 'markruffalo', 'markstrong', 'markwahlberg', 'marlonbrando', 'marlonwayans', 'marriage', 'marriagecrisis', 'marriageproposal', 'married', 'marriedcouple', 'marries', 'marry', 'marrying', 'mars', 'marshal', 'marshall', 'martha', 'martial', 'martialarts', 'martian', 'martin', 'martincampbell', 'martinfreeman', 'martinlawrence', 'martinscorsese', 'marty', 'marvelcinematicuniverse', 'marvelcomic', 'mary', 'marymccormack', 'mask', 'masked', 'maskedkiller', 'masks', 'mass', 'massacre', 'massive', 'massmurder', 'master', 'mastermind', 'masters', 'masturbation', 'match', 'mate', 'mates', 'mathematician', 'mathematics', 'matrix', 'matt', 'mattdamon', 'mattdillon', 'matter', 'matters', 'matthew', 'matthewbroderick', 'matthewmcconaughey', 'maurice', 'max', 'maya', 'maybe', 'mayhem', 'mayor', 'maze', 'mccall', 'mcclane', 'mcphee', 'mean', 'meaning', 'means', 'media', 'medical', 'medication', 'medicine', 'medieval', 'meet', 'meeting', 'meets', 'mega', 'megryan', 'melbrooks', 'melgibson', 'melvin', 'member', 'members', 'memories', 'memory', 'men', 'menace', 'mental', 'mentally', 'mentor', 'mephisto', 'mercenaries', 'mercenary', 'mere', 'mermaid', 'merylstreep', 'message', 'messages', 'met', 'metal', 'meteor', 'methods', 'mexican', 'mexicanstandoff', 'mexico', 'mia', 'miami', 'michael', 'michaelangarano', 'michaelbay', 'michaelcaine', 'michaeldouglas', 'michaelfassbender', 'michaelj', 'michaelkeaton', 'michaelmoore', 'michaelshannon', 'michaelsheen', 'michellemonaghan', 'michellepfeiffer', 'michigan', 'mickeyrourke', 'mid', 'middle', 'middleeast', 'midlifecrisis', 'midst', 'midwest', 'mighty', 'mike', 'mikemyers', 'milakunis', 'mild', 'miles', 'military', 'millajovovich', 'miller', 'million', 'millionaire', 'millions', 'mind', 'minds', 'miner', 'mining', 'minister', 'minor', 'minute', 'minutes', 'miracle', 'mirror', 'misadventures', 'mischievous', 'misfit', 'misguided', 'miss', 'missile', 'missing', 'missingperson', 'mission', 'missionary', 'missionofmurder', 'mississippi', 'missouri', 'mistaken', 'mistakenidentity', 'mistakenly', 'mistakes', 'mistress', 'mitch', 'mitchell', 'mix', 'mixed', 'mob', 'mobster', 'mobsters', 'mockumentary', 'model', 'modern', 'mole', 'molly', 'mom', 'moment', 'moments', 'money', 'monica', 'monk', 'monkey', 'monroe', 'monster', 'monsters', 'monstrous', 'montana', 'monte', 'month', 'months', 'montreal', 'moon', 'moonlights', 'moore', 'moral', 'morality', 'morganfreeman', 'morgue', 'mormon', 'morning', 'morris', 'morrischestnut', 'mortal', 'moscow', 'moses', 'mossad', 'motel', 'mother', 'motherdaughterrelationship', 'motherrole', 'mothersonrelationship', 'motion', 'motives', 'motley', 'motor', 'motorcycle', 'mountain', 'mountains', 'mouse', 'moved', 'movement', 'moves', 'movie', 'movieinmovie', 'movies', 'moviestar', 'moving', 'mr', 'mrs', 'multi', 'multiple', 'multiplestorylines', 'mumblecore', 'mumblegore', 'mummy', 'murder', 'murdered', 'murderer', 'murderhunt', 'murdering', 'murderous', 'murders', 'murphy', 'murray', 'museum', 'music', 'musical', 'musicband', 'musician', 'musicians', 'muslim', 'mutant', 'mutants', 'mutation', 'mutiny', 'mutual', 'mysterious', 'mysteriously', 'mystery', 'mystical', 'mythical', 'mythology', 'naive', 'nam', 'named', 'names', 'nancy', 'nanny', 'naomiwatts', 'narcotics', 'narration', 'nasa', 'nasty', 'natalie', 'natalieportman', 'nathan', 'nation', 'national', 'nations', 'native', 'nativeamerican', 'natural', 'naturally', 'nature', 'navigate', 'navy', 'nazi', 'nazigermany', 'nazis', 'neal', 'near', 'nearby', 'nearly', 'necessary', 'need', 'needed', 'needs', 'nefarious', 'neighbor', 'neighborhood', 'neighbors', 'neiljordan', 'nelson', 'nemesis', 'neo', 'nephew', 'nerd', 'nerdy', 'netherlands', 'network', 'neurotic', 'nevada', 'nevecampbell', 'new', 'newborn', 'newcomer', 'newfound', 'newidentity', 'newjersey', 'newlove', 'newly', 'newmexico', 'news', 'newspaper', 'newyear', 'newyork', 'newyorkcity', 'nialong', 'nice', 'nick', 'nicknolte', 'nicolascage', 'nicolekidman', 'niece', 'night', 'nightclub', 'nightmare', 'nightmares', 'nightshyamalan', 'nightstand', 'ninja', 'noble', 'noir', 'non', 'normal', 'north', 'northern', 'notorious', 'novel', 'novelist', 'nuclear', 'nuclearmissile', 'nudity', 'number', 'numbers', 'numerous', 'nun', 'nurse', 'nypd', 'object', 'obsessed', 'obsession', 'obsessive', 'obstacles', 'obtain', 'occult', 'occupied', 'occurrences', 'occurs', 'ocean', 'odd', 'oddball', 'odds', 'odyssey', 'offer', 'offered', 'offers', 'office', 'officer', 'officers', 'official', 'ohio', 'oil', 'old', 'older', 'oliver', 'oliverstone', 'olivia', 'oliviawilde', 'olympic', 'olympicgames', 'omar', 'ones', 'online', 'ontherun', 'open', 'opening', 'opens', 'opera', 'operation', 'operative', 'opportunity', 'opposing', 'opposite', 'oppositesattract', 'orcs', 'order', 'ordered', 'orders', 'ordinary', 'oregon', 'organization', 'organized', 'organizedcrime', 'original', 'origins', 'orlandobloom', 'orleans', 'orphan', 'orphanage', 'orphaned', 'oscar', 'oscaraward', 'otherworldly', 'outback', 'outbreak', 'outcast', 'outerspace', 'outlaw', 'outrageous', 'outside', 'overcome', 'overrun', 'owenwilson', 'owl', 'owned', 'owner', 'owners', 'oxford', 'oz', 'paced', 'pacific', 'pack', 'package', 'packed', 'pact', 'pageant', 'paid', 'pain', 'painful', 'painter', 'painting', 'pair', 'pal', 'palace', 'pals', 'pam', 'pan', 'panic', 'paradise', 'parallel', 'parallelworld', 'paranoia', 'paranoid', 'paranormal', 'parent', 'parents', 'parentskidsrelationship', 'paris', 'park', 'parker', 'parody', 'parole', 'particularly', 'parties', 'partner', 'partners', 'partnership', 'parts', 'party', 'partying', 'pass', 'passed', 'passenger', 'passengers', 'passes', 'passing', 'passion', 'passionate', 'past', 'pastor', 'path', 'paths', 'patient', 'patients', 'patriarch', 'patrick', 'patrickstewart', 'patrickwilson', 'patriotism', 'paul', 'paulapatton', 'paulbettany', 'paulgiamatti', 'paulgreengrass', 'paulnewman', 'paulrudd', 'paulw', 'paulwalker', 'paulweitz', 'pawns', 'pay', 'pays', 'peace', 'peaceful', 'pearl', 'peasant', 'pedophile', 'pedophilia', 'penguin', 'penguins', 'penn', 'pennsylvania', 'penélopecruz', 'people', 'perfect', 'perform', 'performance', 'performances', 'performer', 'performing', 'perilous', 'period', 'perioddrama', 'perry', 'perseus', 'persian', 'person', 'personal', 'personality', 'peru', 'pet', 'pete', 'peter', 'peterberg', 'peterfarrelly', 'peterjackson', 'petersarsgaard', 'petersegal', 'petty', 'phantom', 'phil', 'philadelphia', 'philippe', 'philipseymourhoffman', 'phillipnoyce', 'philosophy', 'phone', 'photo', 'photographer', 'photography', 'physical', 'pianist', 'piano', 'picard', 'pick', 'picks', 'picture', 'pictures', 'piece', 'pieces', 'piercebrosnan', 'pierre', 'pig', 'pilot', 'pilots', 'pimp', 'pink', 'pinocchio', 'piperperabo', 'pirate', 'pirates', 'pistol', 'pits', 'place', 'placed', 'places', 'plague', 'plagued', 'plan', 'plane', 'planet', 'planned', 'plannedmurder', 'planning', 'plans', 'plant', 'plantation', 'play', 'playboy', 'played', 'player', 'players', 'playing', 'plays', 'playwright', 'pleasure', 'plenty', 'plot', 'plots', 'plunged', 'plus', 'po', 'poet', 'poetry', 'point', 'poison', 'poker', 'police', 'policebrutality', 'policechase', 'policeman', 'policeofficer', 'policeoperation', 'political', 'politician', 'politics', 'pool', 'poor', 'pop', 'popstar', 'popular', 'popularity', 'population', 'porn', 'pornography', 'port', 'portal', 'porter', 'portrait', 'posing', 'position', 'possessed', 'possesses', 'possession', 'possibility', 'possible', 'post', 'posttraumaticstressdisorder', 'pot', 'potential', 'potter', 'poverty', 'power', 'powered', 'powerful', 'poweroutage', 'powers', 'prank', 'prayer', 'pre', 'preacher', 'precious', 'predator', 'pregnancy', 'pregnancyandbirth', 'pregnant', 'prehistoric', 'prejudice', 'prejudices', 'premonition', 'prepare', 'prepared', 'prepares', 'preparing', 'prequel', 'presence', 'present', 'presents', 'president', 'presidential', 'presidentialelection', 'press', 'pressure', 'pretty', 'prevent', 'previous', 'prey', 'price', 'pride', 'priest', 'prime', 'prince', 'princess', 'principal', 'prison', 'prisoner', 'prisoners', 'prisonersofwar', 'private', 'prize', 'pro', 'problem', 'problems', 'process', 'prodigy', 'produced', 'producer', 'product', 'production', 'professional', 'professor', 'profit', 'program', 'project', 'prom', 'prominent', 'promise', 'promised', 'promises', 'promising', 'promoter', 'prompting', 'property', 'prophecy', 'prosecution', 'prostitute', 'prostitution', 'protect', 'protecting', 'protection', 'protest', 'prove', 'proves', 'provide', 'psychiatric', 'psychiatrist', 'psychic', 'psychological', 'psychologist', 'psychology', 'psychopath', 'psychotic', 'puberty', 'public', 'pull', 'pulled', 'pulls', 'punishment', 'punk', 'puppet', 'puppy', 'pure', 'purpose', 'pursue', 'pursued', 'pursues', 'pursuing', 'pursuit', 'push', 'pushed', 'pushes', 'puts', 'putting', 'quarantine', 'queen', 'queenlatifah', 'queens', 'quentintarantino', 'quest', 'question', 'questions', 'quick', 'quickly', 'quiet', 'quirky', 'quite', 'rabbit', 'race', 'raceagainsttime', 'racer', 'races', 'rachaelleighcook', 'rachel', 'rachelmcadams', 'rachelweisz', 'racial', 'racing', 'racism', 'radio', 'rag', 'rage', 'rageandhate', 'raid', 'railroad', 'rain', 'raise', 'raised', 'raising', 'ralph', 'ralphfiennes', 'rampage', 'ranch', 'ranger', 'rangers', 'ranking', 'ransom', 'rape', 'rapidly', 'rapmusic', 'rapper', 'rare', 'rat', 'ravaged', 'raw', 'ray', 'rayliotta', 'raymond', 'raywinstone', 'reach', 'reaches', 'reading', 'ready', 'real', 'reality', 'realize', 'realizes', 'realizing', 'really', 'realm', 'reason', 'rebecca', 'rebeccahall', 'rebel', 'rebellion', 'rebellious', 'rebels', 'reboot', 'receive', 'receives', 'receiving', 'recent', 'recently', 'reclaim', 'reclusive', 'reconcile', 'reconnect', 'record', 'recording', 'records', 'recover', 'recovering', 'recruit', 'recruited', 'recruits', 'red', 'redemption', 'reesewitherspoon', 'refuge', 'refuses', 'regain', 'regime', 'reign', 'reilly', 'relationship', 'relationshipproblems', 'relationships', 'relatives', 'release', 'released', 'relentless', 'religion', 'religionandsupernatural', 'religious', 'relocated', 'reluctant', 'reluctantly', 'rely', 'remain', 'remaining', 'remains', 'remake', 'remember', 'remote', 'renegade', 'renerusso', 'rennyharlin', 'renowned', 'rent', 'renéezellweger', 'repair', 'repayment', 'replace', 'report', 'reporter', 'repressed', 'republic', 'reputation', 'rescue', 'rescued', 'rescues', 'rescuing', 'research', 'researcher', 'resident', 'residents', 'resistance', 'resolve', 'resort', 'resources', 'respect', 'respected', 'respective', 'response', 'responsibility', 'responsible', 'rest', 'restaurant', 'restore', 'result', 'resulting', 'results', 'resurrected', 'resurrection', 'retelling', 'retired', 'retirement', 'retreat', 'retribution', 'retrieve', 'return', 'returned', 'returning', 'returns', 'reunion', 'reunite', 'reunited', 'reunites', 'reveal', 'revealed', 'revealing', 'reveals', 'revelation', 'revenge', 'reverend', 'revolution', 'revolutionary', 'revolves', 'reward', 'rich', 'richard', 'richarddonner', 'richarddreyfuss', 'richardgere', 'richardlinklater', 'rick', 'rid', 'riddle', 'ride', 'riding', 'ridleyscott', 'rifle', 'right', 'rightandjustice', 'rights', 'riley', 'ring', 'riot', 'ripley', 'rise', 'rises', 'rising', 'risk', 'risks', 'rival', 'rivalry', 'rivals', 'river', 'road', 'roadmovie', 'roadtrip', 'rob', 'robber', 'robbers', 'robbery', 'robcohen', 'robert', 'robertdeniro', 'robertdowneyjr', 'robertduvall', 'robertenglund', 'robertredford', 'robertrodriguez', 'robertzemeckis', 'robin', 'robinson', 'robinwilliams', 'robinwright', 'robot', 'robots', 'robreiner', 'rock', 'rockandroll', 'rocket', 'rockstar', 'rocky', 'roger', 'rogerdonaldson', 'rogermoore', 'rogue', 'rolandemmerich', 'role', 'roles', 'roll', 'roman', 'romance', 'romantic', 'romanticcomedy', 'rome', 'romeo', 'romero', 'ron', 'ronhoward', 'ronnie', 'roof', 'rookie', 'room', 'roommate', 'roots', 'rosariodawson', 'rose', 'rosebyrne', 'ross', 'rough', 'round', 'routine', 'row', 'roy', 'royal', 'royalty', 'ruby', 'rugrats', 'rule', 'ruled', 'rules', 'run', 'runaway', 'runner', 'running', 'runs', 'rupertgrint', 'rural', 'ruralsetting', 'rush', 'russell', 'russellcrowe', 'russia', 'russian', 'russians', 'ruth', 'ruthless', 'ryan', 'ryangosling', 'ryanphillippe', 'ryanreynolds', 'sabotage', 'sacred', 'sacrifice', 'sadism', 'sadistic', 'sadness', 'safe', 'safety', 'saga', 'said', 'sailing', 'sailor', 'sale', 'salesman', 'sally', 'salmahayek', 'sam', 'samantha', 'samanthamorton', 'samneill', 'samraimi', 'samrockwell', 'samuel', 'samuell', 'samurai', 'san', 'sandrabullock', 'sandy', 'sanfrancisco', 'sanity', 'santa', 'santaclaus', 'sara', 'sarah', 'sarahjessicaparker', 'sarahmichellegellar', 'sarapaxton', 'satan', 'satellite', 'satire', 'savage', 'save', 'saved', 'saves', 'saving', 'savingtheworld', 'saw', 'say', 'says', 'sbook', 'scale', 'scam', 'scandal', 'scared', 'scarlettjohansson', 'scary', 'scene', 'scenes', 'scheme', 'schemes', 'scheming', 'schizophrenia', 'scholarship', 'school', 'schoolteacher', 'sci', 'science', 'sciencefiction', 'scientific', 'scientist', 'scientists', 'score', 'scotland', 'scott', 'scottish', 'scout', 'screaming', 'screen', 'screenwriter', 'scubadiving', 'sdailylife', 'sea', 'seal', 'sean', 'seanbean', 'seanconnery', 'seannwilliamscott', 'seanpenn', 'search', 'searches', 'searching', 'seas', 'seaside', 'season', 'seasoned', 'seattle', 'sebastian', 'second', 'secret', 'secretagent', 'secretary', 'secretidentity', 'secretintelligenceservice', 'secretlove', 'secretly', 'secretmission', 'secretorganization', 'secrets', 'secretservice', 'secretsociety', 'section', 'secure', 'security', 'securityguard', 'seduction', 'seductive', 'seeing', 'seek', 'seeking', 'seeks', 'seemingly', 'seen', 'sees', 'self', 'selfsacrifice', 'sell', 'selling', 'selmablair', 'semi', 'senator', 'send', 'sending', 'sends', 'senior', 'seniors', 'sense', 'sent', 'sentence', 'sentenced', 'seo', 'separate', 'separated', 'sequel', 'sergeant', 'serial', 'serialkiller', 'series', 'seriesofmurders', 'seriously', 'servant', 'serve', 'serves', 'service', 'serving', 'set', 'seth', 'sethgreen', 'sethrogen', 'sets', 'setting', 'settle', 'seve', 'seven', 'severe', 'sex', 'sexual', 'sexualabuse', 'sexuality', 'sexually', 'sexualobsession', 'sexy', 'shadow', 'shady', 'shake', 'shaken', 'shakespeare', 'shane', 'shannynsossamon', 'shape', 'share', 'shared', 'shares', 'sharing', 'shark', 'sharkattack', 'sharks', 'sharonstone', 'sharp', 'shattered', 'shaw', 'shawnlevy', 'shelter', 'sheriff', 'shialabeouf', 'ship', 'shipwreck', 'shocked', 'shocking', 'shoes', 'shooting', 'shootout', 'shop', 'short', 'shot', 'shotgun', 'showdown', 'shower', 'showing', 'shows', 'shrek', 'shut', 'shy', 'shyness', 'siblings', 'sick', 'sidekick', 'sides', 'sidney', 'sight', 'sights', 'sign', 'signs', 'sigourneyweaver', 'silent', 'silver', 'similar', 'simon', 'simonpegg', 'simonwest', 'simple', 'simply', 'sin', 'sing', 'singer', 'singers', 'singing', 'single', 'singlefather', 'singlemother', 'singleparent', 'sinister', 'sir', 'sister', 'sisters', 'sistersisterrelationship', 'site', 'sittingonatoilet', 'situation', 'situations', 'size', 'sized', 'skateboarding', 'skeleton', 'skeptical', 'skill', 'skilled', 'skills', 'skull', 'sky', 'skyscraper', 'skywalker', 'slacker', 'slapstick', 'slasher', 'slaughter', 'slave', 'slavery', 'slaves', 'sleazy', 'sleep', 'sleeping', 'sleepy', 'slife', 'slowly', 'slum', 'small', 'smalltown', 'smart', 'smith', 'smitten', 'smoking', 'smuggling', 'snake', 'sniper', 'snow', 'snowstorm', 'soccer', 'social', 'socially', 'society', 'sociopath', 'sofia', 'solar', 'sold', 'soldier', 'soldiers', 'sole', 'solomon', 'solve', 'somebody', 'somewhat', 'son', 'song', 'songs', 'songwriter', 'sons', 'soon', 'sophie', 'sorcerer', 'sorcery', 'sorority', 'sort', 'soul', 'souls', 'soundtrack', 'source', 'south', 'southafrica', 'southern', 'southernusa', 'soviet', 'space', 'spacecraft', 'spacemarine', 'spacemission', 'spaceopera', 'spaceship', 'spacetravel', 'spain', 'spanish', 'spanning', 'sparks', 'speak', 'speaking', 'special', 'specialist', 'species', 'spectacle', 'spectacular', 'speech', 'speed', 'spell', 'spencer', 'spend', 'spending', 'spends', 'spent', 'spider', 'spike', 'spikelee', 'spiral', 'spirit', 'spirited', 'spirits', 'spiritual', 'spoof', 'sport', 'sports', 'spot', 'spotlight', 'spread', 'spring', 'spy', 'squad', 'st', 'stadium', 'staff', 'stage', 'stages', 'stake', 'stakes', 'stalked', 'stalker', 'stalking', 'stan', 'stand', 'standing', 'stands', 'star', 'stardom', 'stark', 'starring', 'stars', 'start', 'started', 'starting', 'starts', 'state', 'states', 'station', 'status', 'stay', 'steal', 'stealing', 'steampunk', 'steel', 'step', 'stepfather', 'stephen', 'stephendorff', 'stephenfrears', 'stephenherek', 'stephenrea', 'stepmother', 'steps', 'steve', 'stevebuscemi', 'stevecarell', 'stevemartin', 'steven', 'stevens', 'stevenseagal', 'stevensoderbergh', 'stevenspielberg', 'stevezahn', 'stewart', 'stock', 'stockbroker', 'stolen', 'stone', 'stoneage', 'stoner', 'stones', 'stop', 'stopmotion', 'stopped', 'stopping', 'store', 'stories', 'storm', 'story', 'straight', 'stranded', 'strange', 'stranger', 'strangers', 'strategy', 'street', 'streetgang', 'streets', 'strength', 'stress', 'stretch', 'strict', 'strike', 'strikes', 'strip', 'stripclub', 'stripes', 'stripper', 'strong', 'struggle', 'struggles', 'struggling', 'stu', 'stuart', 'stuck', 'student', 'students', 'studies', 'studio', 'study', 'stumble', 'stumbles', 'stunning', 'stunts', 'style', 'sub', 'submarine', 'suburban', 'suburbia', 'subway', 'succeed', 'succeeds', 'success', 'successful', 'successfully', 'successor', 'sudden', 'suddenly', 'suffering', 'suffers', 'suicidal', 'suicide', 'suicideattempt', 'suit', 'suitcase', 'suitor', 'sullivan', 'summer', 'sun', 'sunglasses', 'super', 'superhero', 'superheroes', 'superhuman', 'superhumanstrength', 'superman', 'supermarket', 'supernatural', 'supernaturalpowers', 'superpowers', 'superstar', 'supervillain', 'supply', 'support', 'supposed', 'suppressedpast', 'sure', 'surface', 'surfer', 'surgeon', 'surgery', 'surprise', 'surprising', 'surreal', 'surrealism', 'surrounding', 'surveillance', 'survival', 'survive', 'survived', 'survives', 'surviving', 'survivor', 'survivors', 'susan', 'susansarandon', 'suspect', 'suspected', 'suspecting', 'suspects', 'suspense', 'suspicion', 'suspicions', 'suspicious', 'sweet', 'sweetheart', 'swept', 'swimmingpool', 'swing', 'sword', 'swordandsorcery', 'swordfight', 'swordplay', 'sylvesterstallone', 'symbol', 'table', 'tabloid', 'tae', 'tag', 'tail', 'taken', 'takes', 'taking', 'tale', 'talent', 'talented', 'tales', 'talk', 'talking', 'talkinganimal', 'talks', 'tall', 'tank', 'tape', 'target', 'targeted', 'targets', 'task', 'tasked', 'taste', 'tattoo', 'taxi', 'taxidriver', 'taylor', 'teach', 'teacher', 'teachers', 'teaches', 'teaching', 'team', 'teams', 'tear', 'tears', 'tech', 'technology', 'ted', 'teen', 'teenage', 'teenagecrush', 'teenagegirl', 'teenager', 'teenagers', 'teenagesexuality', 'teencomedy', 'teenmovie', 'teens', 'telekinesis', 'telepathy', 'television', 'tell', 'telling', 'tells', 'temple', 'tennessee', 'tennis', 'tense', 'tension', 'tensions', 'term', 'terminal', 'terminalillness', 'terms', 'terrencehoward', 'terrible', 'terrier', 'terrified', 'terrifying', 'territory', 'terror', 'terrorism', 'terrorist', 'terrorists', 'terrorize', 'terrorizing', 'terry', 'terrygilliam', 'tess', 'test', 'tested', 'tests', 'texas', 'thailand', 'thandienewton', 'thanks', 'thanksgiving', 'theater', 'theatremilieu', 'theft', 'theory', 'therapist', 'therapy', 'thief', 'thieves', 'thing', 'things', 'think', 'thinking', 'thinks', 'thirty', 'thomas', 'thomashadenchurch', 'thomasjane', 'thompson', 'thought', 'thoughts', 'thousand', 'thousands', 'threat', 'threaten', 'threatened', 'threatening', 'threatens', 'threats', 'thrill', 'thriller', 'thrilling', 'throne', 'throw', 'thrown', 'thrust', 'thugs', 'thwart', 'ticket', 'ties', 'tiger', 'tim', 'timallen', 'timburton', 'time', 'timeless', 'times', 'timetravel', 'timothyolyphant', 'timrobbins', 'timroth', 'tiny', 'title', 'tobeymaguire', 'today', 'todd', 'tokyo', 'told', 'tom', 'tomcruise', 'tomhanks', 'tomhardy', 'tommy', 'tommyleejones', 'tomwilkinson', 'tonicollette', 'tony', 'tonyscott', 'took', 'tormented', 'torn', 'tornado', 'toronto', 'torture', 'total', 'totally', 'touch', 'touches', 'touching', 'tough', 'toughest', 'tour', 'tourist', 'tournament', 'town', 'toxic', 'toy', 'toycomestolife', 'toys', 'track', 'tracking', 'tracks', 'tracy', 'trade', 'tradition', 'traditional', 'traffic', 'trafficking', 'tragedy', 'tragic', 'trail', 'train', 'trained', 'trainer', 'training', 'traitor', 'transfer', 'transform', 'transformation', 'transformed', 'transforming', 'transforms', 'transported', 'transporter', 'trap', 'trapped', 'traps', 'trauma', 'traumatic', 'travel', 'traveling', 'travels', 'treacherous', 'treasure', 'treasurehunt', 'treatment', 'tree', 'trek', 'trial', 'trials', 'triangle', 'tribe', 'tried', 'tries', 'trio', 'trip', 'troops', 'tropical', 'trouble', 'troubled', 'troy', 'truck', 'trucker', 'true', 'truly', 'trust', 'truth', 'try', 'trying', 'tunnel', 'turmoil', 'turn', 'turned', 'turner', 'turning', 'turns', 'turtle', 'turtles', 'tv', 'tvmovie', 'tvshow', 'tvstation', 'twin', 'twinbrother', 'twins', 'twist', 'twisted', 'tycoon', 'tyler', 'tylerperry', 'type', 'typical', 'tyrannical', 'téaleoni', 'ufo', 'ugly', 'ultimate', 'ultimately', 'ultra', 'umathurman', 'unable', 'unaware', 'uncle', 'unconventional', 'uncover', 'uncovers', 'undead', 'undercover', 'undercoveragent', 'undercovercop', 'underdog', 'underground', 'understand', 'underwater', 'underworld', 'unemployed', 'unemployment', 'unexpected', 'unexpectedly', 'unfold', 'unforgettable', 'unfortunately', 'unimaginable', 'union', 'unique', 'unit', 'unite', 'united', 'universe', 'university', 'unknown', 'unleash', 'unleashed', 'unleashing', 'unless', 'unlike', 'unlikely', 'unlock', 'unorthodox', 'unprecedented', 'unravel', 'unsimulatedsex', 'unsociability', 'unstable', 'unstoppable', 'unsuspecting', 'unusual', 'unwitting', 'unwittingly', 'upcoming', 'upper', 'upperclass', 'uprising', 'ups', 'upside', 'uptight', 'urban', 'usa', 'usapresident', 'use', 'used', 'uses', 'using', 'utah', 'vacation', 'valentine', 'valkilmer', 'valley', 'valuable', 'value', 'vampire', 'vampires', 'van', 'vandalism', 'vanessa', 'vanessahudgens', 'variety', 'various', 'vast', 'vatican', 'vault', 've', 'vegas', 'vegetarian', 'vengeance', 'vengeful', 'venice', 'verafarmiga', 'verge', 'version', 'verylittledialogue', 'veteran', 'vice', 'vicious', 'victim', 'victims', 'victor', 'victoria', 'victory', 'video', 'videogame', 'vienna', 'vietnam', 'vietnamveteran', 'vietnamwar', 'view', 'viggomortensen', 'vigilante', 'village', 'villain', 'villainous', 'villains', 'vincent', 'vincevaughn', 'vindiesel', 'vineyard', 'violence', 'violent', 'virgin', 'virginia', 'virginiamadsen', 'virginity', 'virtualreality', 'virus', 'vision', 'visions', 'visit', 'visited', 'visits', 'voice', 'volatile', 'volcano', 'volunteers', 'von', 'voodoo', 'vow', 'vows', 'voyage', 'wade', 'wait', 'waiter', 'waiting', 'waitress', 'wake', 'wakes', 'walk', 'walker', 'walking', 'walks', 'wall', 'wallet', 'walls', 'wallstreet', 'walt', 'walter', 'wang', 'want', 'wanted', 'wanting', 'wants', 'war', 'warcrimes', 'ward', 'warden', 'warehouse', 'warfare', 'warlock', 'warlord', 'warondrugs', 'warren', 'warrenbeatty', 'warrior', 'warriors', 'wars', 'warship', 'warveteran', 'washed', 'washington', 'washingtond', 'wasn', 'waste', 'wasteland', 'watch', 'watches', 'watching', 'water', 'waters', 'wave', 'way', 'ways', 'wealth', 'wealthy', 'weapon', 'weapons', 'wearing', 'weather', 'web', 'website', 'wedding', 'week', 'weekend', 'weeks', 'welcome', 'went', 'werewolf', 'wesbentley', 'wescraven', 'wesley', 'wesleysnipes', 'west', 'western', 'whale', 'wheelchair', 'whip', 'white', 'whitehouse', 'whoopigoldberg', 'wicked', 'wide', 'widow', 'widowed', 'widower', 'wife', 'wifehusbandrelationship', 'wild', 'wilderness', 'wildly', 'willemdafoe', 'willferrell', 'william', 'williamh', 'williams', 'williamshatner', 'willing', 'willpatton', 'willsmith', 'wilson', 'win', 'wind', 'window', 'winds', 'wine', 'wing', 'winner', 'winning', 'winonaryder', 'wins', 'winter', 'wise', 'wish', 'wishes', 'witch', 'witches', 'witness', 'witnesses', 'wits', 'wizard', 'wolf', 'woman', 'womandirector', 'womanizer', 'womanrelation', 'women', 'won', 'wonder', 'wonders', 'wood', 'woods', 'woody', 'woodyallen', 'woodyharrelson', 'word', 'words', 'work', 'workaholic', 'worked', 'worker', 'workers', 'working', 'works', 'world', 'worlds', 'worldwari', 'worldwarii', 'worldwide', 'worse', 'worst', 'worth', 'wounded', 'wreak', 'wrestling', 'wretch', 'wright', 'write', 'writer', 'writes', 'writing', 'written', 'wrong', 'wwii', 'wyoming', 'xenophobia', 'yacht', 'yakuza', 'yard', 'year', 'years', 'yellow', 'york', 'young', 'youngadult', 'younger', 'youngest', 'youth', 'yuppie', 'zacefron', 'zachgalifianakis', 'zebra', 'zeus', 'zoe', 'zoesaldana', 'zombie', 'zombies', 'zone', 'zoo', 'zooeydeschanel']\n"
     ]
    },
    {
     "name": "stderr",
     "output_type": "stream",
     "text": [
      "c:\\Users\\SAHIL JOSAN\\AppData\\Local\\Programs\\Python\\Python310\\lib\\site-packages\\sklearn\\utils\\deprecation.py:87: FutureWarning: Function get_feature_names is deprecated; get_feature_names is deprecated in 1.0 and will be removed in 1.2. Please use get_feature_names_out instead.\n",
      "  warnings.warn(msg, category=FutureWarning)\n"
     ]
    }
   ],
   "source": [
    "## These are that top 5000 words which mostly came in corpus (string of all tags together)\n",
    "print(\"Total most appeared names :\",len(cv.get_feature_names()),\"\\n\\n\",cv.get_feature_names())"
   ]
  },
  {
   "attachments": {},
   "cell_type": "markdown",
   "metadata": {},
   "source": [
    "### Now here some words are repeating like\n",
    "\n",
    "![](https://i.imgur.com/csjaFn1.png)\n",
    "\n",
    "we want ['loved' , 'loving' , 'love'] as ['love' , 'love' , 'love'] \n",
    "\n",
    "so we have to apply \n",
    "#### Stemming"
   ]
  },
  {
   "cell_type": "code",
   "execution_count": 103,
   "metadata": {},
   "outputs": [],
   "source": [
    "from nltk.stem.porter import PorterStemmer\n",
    "ps = PorterStemmer()"
   ]
  },
  {
   "cell_type": "code",
   "execution_count": 104,
   "metadata": {},
   "outputs": [
    {
     "data": {
      "text/plain": [
       "'addict'"
      ]
     },
     "execution_count": 104,
     "metadata": {},
     "output_type": "execute_result"
    }
   ],
   "source": [
    "ps.stem('addict')"
   ]
  },
  {
   "cell_type": "code",
   "execution_count": 105,
   "metadata": {},
   "outputs": [
    {
     "data": {
      "text/plain": [
       "'addict'"
      ]
     },
     "execution_count": 105,
     "metadata": {},
     "output_type": "execute_result"
    }
   ],
   "source": [
    "ps.stem('addicted')"
   ]
  },
  {
   "cell_type": "code",
   "execution_count": 106,
   "metadata": {},
   "outputs": [
    {
     "data": {
      "text/plain": [
       "'addict'"
      ]
     },
     "execution_count": 106,
     "metadata": {},
     "output_type": "execute_result"
    }
   ],
   "source": [
    "ps.stem('addiction')"
   ]
  },
  {
   "cell_type": "code",
   "execution_count": 107,
   "metadata": {},
   "outputs": [],
   "source": [
    "def stem(text):\n",
    "    y = []\n",
    "\n",
    "    for i in text.split():\n",
    "        y.append(ps.stem(i))\n",
    "\n",
    "    return \" \".join(y)"
   ]
  },
  {
   "cell_type": "code",
   "execution_count": 108,
   "metadata": {},
   "outputs": [
    {
     "data": {
      "text/plain": [
       "'in the 22nd century, a parapleg marin is dispatch to the moon pandora on a uniqu mission, but becom torn between follow order and protect an alien civilization. action adventur fantasi sciencefict cultureclash futur spacewar spacecoloni societi spacetravel futurist romanc space alien tribe alienplanet cgi marin soldier battl loveaffair antiwar powerrel mindandsoul 3d samworthington zoesaldana sigourneyweav jamescameron'"
      ]
     },
     "execution_count": 108,
     "metadata": {},
     "output_type": "execute_result"
    }
   ],
   "source": [
    "stem('In the 22nd century, a paraplegic Marine is dispatched to the moon Pandora on a unique mission, but becomes torn between following orders and protecting an alien civilization. Action Adventure Fantasy ScienceFiction cultureclash future spacewar spacecolony society spacetravel futuristic romance space alien tribe alienplanet cgi marine soldier battle loveaffair antiwar powerrelations mindandsoul 3d SamWorthington ZoeSaldana SigourneyWeaver JamesCameron')"
   ]
  },
  {
   "cell_type": "code",
   "execution_count": 109,
   "metadata": {},
   "outputs": [
    {
     "data": {
      "text/plain": [
       "0       in the 22nd century, a parapleg marin is dispa...\n",
       "1       captain barbossa, long believ to be dead, ha c...\n",
       "2       a cryptic messag from bond’ past send him on a...\n",
       "3       follow the death of district attorney harvey d...\n",
       "4       john carter is a war-weary, former militari ca...\n",
       "                              ...                        \n",
       "4804    el mariachi just want to play hi guitar and ca...\n",
       "4805    a newlyw couple' honeymoon is upend by the arr...\n",
       "4806    \"signed, sealed, delivered\" introduc a dedic q...\n",
       "4807    when ambiti new york attorney sam is sent to s...\n",
       "4808    ever sinc the second grade when he first saw h...\n",
       "Name: tags, Length: 4806, dtype: object"
      ]
     },
     "execution_count": 109,
     "metadata": {},
     "output_type": "execute_result"
    }
   ],
   "source": [
    "new_df['tags'].apply(stem)"
   ]
  },
  {
   "cell_type": "code",
   "execution_count": 110,
   "metadata": {},
   "outputs": [
    {
     "name": "stderr",
     "output_type": "stream",
     "text": [
      "C:\\Users\\SAHIL JOSAN\\AppData\\Local\\Temp\\ipykernel_12580\\3213734980.py:1: SettingWithCopyWarning: \n",
      "A value is trying to be set on a copy of a slice from a DataFrame.\n",
      "Try using .loc[row_indexer,col_indexer] = value instead\n",
      "\n",
      "See the caveats in the documentation: https://pandas.pydata.org/pandas-docs/stable/user_guide/indexing.html#returning-a-view-versus-a-copy\n",
      "  new_df['tags'] = new_df['tags'].apply(stem)\n"
     ]
    }
   ],
   "source": [
    "new_df['tags'] = new_df['tags'].apply(stem)"
   ]
  },
  {
   "attachments": {},
   "cell_type": "markdown",
   "metadata": {},
   "source": [
    "- Stemming is done\n",
    "- Now the words will not repeat in tags"
   ]
  },
  {
   "attachments": {},
   "cell_type": "markdown",
   "metadata": {},
   "source": [
    "### Next Step\n",
    "Now we have to find distance between all vectors of all movies </br>\n",
    "The higher the distance , the lower the similarity </br>\n",
    "The lower the distance, the higher the similarity between two movies </br>"
   ]
  },
  {
   "attachments": {},
   "cell_type": "markdown",
   "metadata": {},
   "source": [
    "Here we will not calculate Euclidean distance, we will calculate cosine distance</br>\n",
    "Means we calculate Theta (angle) between two vector. </br>\n",
    "![](https://i.imgur.com/ybXMmbP.png)\n",
    "\n",
    "- We will use one function cosine_similarity for that"
   ]
  },
  {
   "cell_type": "code",
   "execution_count": 111,
   "metadata": {},
   "outputs": [],
   "source": [
    "from sklearn.metrics.pairwise import cosine_similarity"
   ]
  },
  {
   "cell_type": "code",
   "execution_count": 112,
   "metadata": {},
   "outputs": [
    {
     "data": {
      "text/plain": [
       "array([[1.        , 0.08964215, 0.06071767, ..., 0.02519763, 0.0277885 ,\n",
       "        0.        ],\n",
       "       [0.08964215, 1.        , 0.06350006, ..., 0.02635231, 0.        ,\n",
       "        0.        ],\n",
       "       [0.06071767, 0.06350006, 1.        , ..., 0.02677398, 0.        ,\n",
       "        0.        ],\n",
       "       ...,\n",
       "       [0.02519763, 0.02635231, 0.02677398, ..., 1.        , 0.07352146,\n",
       "        0.04774099],\n",
       "       [0.0277885 , 0.        , 0.        , ..., 0.07352146, 1.        ,\n",
       "        0.05264981],\n",
       "       [0.        , 0.        , 0.        , ..., 0.04774099, 0.05264981,\n",
       "        1.        ]])"
      ]
     },
     "execution_count": 112,
     "metadata": {},
     "output_type": "execute_result"
    }
   ],
   "source": [
    "# Pass all vectors through cosine_similarity\n",
    "cosine_similarity(vectors)"
   ]
  },
  {
   "cell_type": "code",
   "execution_count": 113,
   "metadata": {},
   "outputs": [
    {
     "data": {
      "text/plain": [
       "(4806, 4806)"
      ]
     },
     "execution_count": 113,
     "metadata": {},
     "output_type": "execute_result"
    }
   ],
   "source": [
    "cosine_similarity(vectors).shape"
   ]
  },
  {
   "cell_type": "code",
   "execution_count": 114,
   "metadata": {},
   "outputs": [
    {
     "data": {
      "text/plain": [
       "array([1.        , 0.08964215, 0.06071767, ..., 0.02519763, 0.0277885 ,\n",
       "       0.        ])"
      ]
     },
     "execution_count": 114,
     "metadata": {},
     "output_type": "execute_result"
    }
   ],
   "source": [
    "similarity = cosine_similarity(vectors)\n",
    "similarity[0]"
   ]
  },
  {
   "attachments": {},
   "cell_type": "markdown",
   "metadata": {},
   "source": [
    "### Now we will make function, if someone enter movie(name) then this will recommend 5 similar movies"
   ]
  },
  {
   "cell_type": "code",
   "execution_count": 115,
   "metadata": {},
   "outputs": [
    {
     "data": {
      "text/plain": [
       "119"
      ]
     },
     "execution_count": 115,
     "metadata": {},
     "output_type": "execute_result"
    }
   ],
   "source": [
    "new_df[new_df['title'] == \"Batman Begins\"].index[0]"
   ]
  },
  {
   "cell_type": "code",
   "execution_count": 116,
   "metadata": {},
   "outputs": [
    {
     "data": {
      "text/plain": [
       "[1.0,\n",
       " 0.26089696604360174,\n",
       " 0.2581988897471611,\n",
       " 0.25110592822973776,\n",
       " 0.24944382578492943,\n",
       " 0.24846467329894412]"
      ]
     },
     "execution_count": 116,
     "metadata": {},
     "output_type": "execute_result"
    }
   ],
   "source": [
    "sorted(similarity[0], reverse= True)[:6]"
   ]
  },
  {
   "cell_type": "code",
   "execution_count": 117,
   "metadata": {},
   "outputs": [
    {
     "data": {
      "text/plain": [
       "[(539, 0.26089696604360174),\n",
       " (1194, 0.2581988897471611),\n",
       " (260, 0.25110592822973776),\n",
       " (1216, 0.24944382578492943),\n",
       " (507, 0.24846467329894412)]"
      ]
     },
     "execution_count": 117,
     "metadata": {},
     "output_type": "execute_result"
    }
   ],
   "source": [
    "sorted(list(enumerate(similarity[0])), reverse= True, key = lambda x:x[1])[1:6]"
   ]
  },
  {
   "attachments": {},
   "cell_type": "markdown",
   "metadata": {},
   "source": [
    "### Observation \n",
    "- From my 1st movie `Avtar` the 5 most similar movies are at index `539`, `1194`, `260`, `1216`, `507`"
   ]
  },
  {
   "cell_type": "code",
   "execution_count": 118,
   "metadata": {},
   "outputs": [],
   "source": [
    "def recommend(movie):\n",
    "    # we get the index of the movie from this code\n",
    "    movie_index = new_df[new_df['title'] == movie].index[0]\n",
    "    distances = similarity[movie_index]\n",
    "    movies_list = sorted(list(enumerate(distances)), reverse= True, key = lambda x:x[1])[1:6]\n",
    "\n",
    "    for i in movies_list:\n",
    "        print(new_df.iloc[i[0]].title)"
   ]
  },
  {
   "cell_type": "code",
   "execution_count": 119,
   "metadata": {},
   "outputs": [
    {
     "name": "stdout",
     "output_type": "stream",
     "text": [
      "Titan A.E.\n",
      "Small Soldiers\n",
      "Ender's Game\n",
      "Aliens vs Predator: Requiem\n",
      "Independence Day\n"
     ]
    }
   ],
   "source": [
    "recommend('Avatar')"
   ]
  },
  {
   "cell_type": "code",
   "execution_count": 107,
   "metadata": {},
   "outputs": [
    {
     "name": "stdout",
     "output_type": "stream",
     "text": [
      "The Dark Knight\n",
      "The Dark Knight Rises\n",
      "Batman\n",
      "Batman & Robin\n",
      "Batman\n"
     ]
    }
   ],
   "source": [
    "recommend('Batman Begins')"
   ]
  },
  {
   "attachments": {},
   "cell_type": "markdown",
   "metadata": {},
   "source": [
    "### Dump new_df as pickle file"
   ]
  },
  {
   "cell_type": "code",
   "execution_count": 120,
   "metadata": {},
   "outputs": [],
   "source": [
    "import pickle\n",
    "pickle.dump(new_df,open(\"recommended_movies.pkl\",'wb'))"
   ]
  },
  {
   "cell_type": "code",
   "execution_count": null,
   "metadata": {},
   "outputs": [
    {
     "ename": "",
     "evalue": "",
     "output_type": "error",
     "traceback": [
      "\u001b[1;31mThe kernel failed to start due to the missing module 'prompt_toolkit.formatted_text'. Consider installing this module.\n",
      "\u001b[1;31mClick <a href='https://aka.ms/kernelFailuresMissingModule'>here</a> for more info."
     ]
    }
   ],
   "source": [
    "import pickle\n",
    "pickle.dump(similarity,open(\"similarity.pkl\",'wb'))"
   ]
  },
  {
   "cell_type": "code",
   "execution_count": null,
   "metadata": {},
   "outputs": [],
   "source": []
  }
 ],
 "metadata": {
  "kernelspec": {
   "display_name": "Python 3.10.6 64-bit",
   "language": "python",
   "name": "python3"
  },
  "language_info": {
   "codemirror_mode": {
    "name": "ipython",
    "version": 3
   },
   "file_extension": ".py",
   "mimetype": "text/x-python",
   "name": "python",
   "nbconvert_exporter": "python",
   "pygments_lexer": "ipython3",
   "version": "3.10.6 (tags/v3.10.6:9c7b4bd, Aug  1 2022, 21:53:49) [MSC v.1932 64 bit (AMD64)]"
  },
  "orig_nbformat": 4,
  "vscode": {
   "interpreter": {
    "hash": "9ab66fe7944814080eba699b0827d98586b0c1b75b0dd08322b4876e0a85e33c"
   }
  }
 },
 "nbformat": 4,
 "nbformat_minor": 2
}
